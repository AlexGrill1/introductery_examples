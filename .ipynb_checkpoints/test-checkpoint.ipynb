{
 "cells": [
  {
   "cell_type": "code",
   "execution_count": 1,
   "metadata": {},
   "outputs": [],
   "source": [
    "# Library\n",
    "import math"
   ]
  },
  {
   "cell_type": "markdown",
   "metadata": {},
   "source": [
    "Check if $\\pi = 0.7$ is the optimal solution for discrete action-choices for the example 3.2 in R. Korn, Optimal Portfolios (p. 41 ff.)"
   ]
  },
  {
   "cell_type": "code",
   "execution_count": 2,
   "metadata": {},
   "outputs": [],
   "source": [
    "# See p. 43\n",
    "def f(x):\n",
    "    return(4/9 * math.sqrt(x+1) + 5/9 * math.sqrt(1 - x/2))"
   ]
  },
  {
   "cell_type": "code",
   "execution_count": 3,
   "metadata": {},
   "outputs": [],
   "source": [
    "actions = [0, 0.1, 0.2, 0.3, 0.4, 0.5, 0.6, 0.7, 0.8, 0.9, 1]"
   ]
  },
  {
   "cell_type": "code",
   "execution_count": 5,
   "metadata": {},
   "outputs": [
    {
     "name": "stdout",
     "output_type": "stream",
     "text": [
      "(0, 1.0)\n",
      "(0.1, 1.0076258405650098)\n",
      "(0.2, 1.0139107722548775)\n",
      "(0.3, 1.018941547671444)\n",
      "(0.4, 1.022777753497697)\n",
      "(0.5, 1.0254562782765053)\n",
      "(0.6, 1.0269938209933094)\n",
      "(0.7, 1.0273878664790437)\n",
      "(0.8, 1.0266162769118792)\n",
      "(0.9, 1.0246354160426578)\n",
      "(1, 1.021376461713902)\n"
     ]
    }
   ],
   "source": [
    "for x in actions:\n",
    "    print((x, f(x)))"
   ]
  }
 ],
 "metadata": {
  "kernelspec": {
   "display_name": "Python 3",
   "language": "python",
   "name": "python3"
  },
  "language_info": {
   "codemirror_mode": {
    "name": "ipython",
    "version": 3
   },
   "file_extension": ".py",
   "mimetype": "text/x-python",
   "name": "python",
   "nbconvert_exporter": "python",
   "pygments_lexer": "ipython3",
   "version": "3.7.3"
  }
 },
 "nbformat": 4,
 "nbformat_minor": 4
}
