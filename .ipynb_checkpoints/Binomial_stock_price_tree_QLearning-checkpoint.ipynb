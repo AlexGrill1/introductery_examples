{
 "cells": [
  {
   "cell_type": "code",
   "execution_count": 1,
   "metadata": {},
   "outputs": [],
   "source": [
    "import gym\n",
    "from envs.binomial_tree import BinomialTree, decode_action \n",
    "from envs import plotting\n",
    "import numpy as np\n",
    "import pandas as pd\n",
    "import math\n",
    "from collections import defaultdict\n",
    "import itertools"
   ]
  },
  {
   "cell_type": "code",
   "execution_count": 65,
   "metadata": {},
   "outputs": [
    {
     "name": "stdout",
     "output_type": "stream",
     "text": [
      "Actions (Investment in risky asset): [0.  0.1 0.2 0.3 0.4 0.5 0.6 0.7 0.8 0.9 1. ]\n"
     ]
    }
   ],
   "source": [
    "actions = np.arange(0, 1.01, step=0.1)   #vector of actions\n",
    "#actions = np.array([0, 1])\n",
    "print(\"Actions (Investment in risky asset):\", actions)\n",
    "lower = 90\n",
    "upper = 110\n",
    "delta_bin = 20\n",
    "wealth_bins = [0] + np.arange(lower, upper+1, delta_bin).tolist() + [float('Inf')]  # +1 as upper limit is not included"
   ]
  },
  {
   "cell_type": "code",
   "execution_count": 102,
   "metadata": {},
   "outputs": [
    {
     "name": "stdout",
     "output_type": "stream",
     "text": [
      "(0, 3)\n",
      "((1, 5), 0, False, {})\n",
      "((2, 3), 4.605170185988092, True, {})\n",
      "100.0\n"
     ]
    }
   ],
   "source": [
    "print(env.reset())\n",
    "print(env.step(10))\n",
    "print(env.step(10))\n",
    "print(env.V_t)"
   ]
  },
  {
   "cell_type": "code",
   "execution_count": 4,
   "metadata": {},
   "outputs": [],
   "source": [
    "def createEpsilonGreedyPolicy(Q, epsilon, num_actions): \n",
    "    \"\"\" \n",
    "    Creates an epsilon-greedy policy based \n",
    "    on a given Q-function and epsilon. \n",
    "       \n",
    "    Returns a function that takes the state \n",
    "    as an input and returns the probabilities \n",
    "    for each action in the form of a numpy array  \n",
    "    of length of the action space(set of possible actions). \n",
    "    \"\"\"\n",
    "    def policyFunction(state): \n",
    "   \n",
    "        Action_probabilities = np.ones(num_actions, \n",
    "                dtype = float) * epsilon / num_actions \n",
    "                  \n",
    "        best_action = np.argmax(Q[state]) \n",
    "        Action_probabilities[best_action] += (1.0 - epsilon) \n",
    "        return Action_probabilities \n",
    "   \n",
    "    return policyFunction"
   ]
  },
  {
   "cell_type": "code",
   "execution_count": 146,
   "metadata": {},
   "outputs": [],
   "source": [
    "def qLearning(env, num_episodes, discount_factor = 1, alpha = 0.3, epsilon = 0.95): \n",
    "    \"\"\" \n",
    "    Q-Learning algorithm: Off-policy TD control. \n",
    "    Finds the optimal greedy policy while improving \n",
    "    following an epsilon-greedy policy\"\"\"\n",
    "       \n",
    "    # Action value function \n",
    "    # A nested dictionary that maps \n",
    "    # state -> (action -> action-value). \n",
    "    Q = defaultdict(lambda: np.zeros(env.action_space.n)) \n",
    "   \n",
    "    # Keeps track of useful statistics \n",
    "    stats = plotting.EpisodeStats( \n",
    "        episode_lengths = np.zeros(num_episodes), \n",
    "        episode_rewards = np.zeros(num_episodes))     \n",
    "       \n",
    "    # Create an epsilon greedy policy function \n",
    "    # appropriately for environment action space \n",
    "    policy = createEpsilonGreedyPolicy(Q, epsilon, env.action_space.n) \n",
    "       \n",
    "    # For every episode\n",
    "    returns=np.array([])\n",
    "    terminal_wealths = np.array([])\n",
    "    for ith_episode in range(num_episodes): \n",
    "           \n",
    "        # Reset the environment and pick the first action \n",
    "        state = env.reset() \n",
    "           \n",
    "        for t in itertools.count(): \n",
    "               \n",
    "            # get probabilities of all actions from current state \n",
    "            action_probabilities = policy(state)\n",
    "   \n",
    "            # choose action according to  \n",
    "            # the probability distribution \n",
    "            action = np.random.choice(np.arange( \n",
    "                      len(action_probabilities)), \n",
    "                       p = action_probabilities) \n",
    "   \n",
    "            # take action and get reward, transit to next state \n",
    "            next_state, reward, done, _ = env.step(action)\n",
    "            #print(\"t: {}, V_t: {}, action: {}, next state: {}, reward {}, done {}\".format(t, round(env.V_t, 2), round(decode_action(action, actions), 2), next_state, reward, done))\n",
    "   \n",
    "            # Update statistics \n",
    "            stats.episode_rewards[ith_episode] += reward \n",
    "            stats.episode_lengths[ith_episode] = t\n",
    "               \n",
    "            # TD Update \n",
    "            best_next_action = np.argmax(Q[next_state])     \n",
    "            td_target = reward + discount_factor * Q[next_state][best_next_action] \n",
    "            td_delta = td_target - Q[state][action] \n",
    "            Q[state][action] += alpha * td_delta\n",
    "   \n",
    "            # done is True if episode terminated    \n",
    "            if done: \n",
    "                returns = np.append(returns, reward)\n",
    "                terminal_wealths=np.append(terminal_wealths, env.V_t)\n",
    "                break\n",
    "                   \n",
    "            state = next_state\n",
    "        \n",
    "        if ith_episode % 1000 == 0:            \n",
    "            print(\"Episode: {}, Mean Return: {}, Mean Wealth (V_T): {}, Epsilon: {}\".format(ith_episode, round(returns.mean(), 3), round(terminal_wealths.mean(), 3), epsilon))\n",
    "            returns = np.array([])\n",
    "            terminal_wealths=np.array([])\n",
    "            \n",
    "        # Epsilon-Decay    \n",
    "        if ith_episode % 15000 == 0:\n",
    "            epsilon *= epsilon\n",
    "            policy = createEpsilonGreedyPolicy(Q, epsilon, env.action_space.n) \n",
    "            \n",
    "       \n",
    "    return Q, stats"
   ]
  },
  {
   "cell_type": "code",
   "execution_count": 147,
   "metadata": {},
   "outputs": [
    {
     "name": "stdout",
     "output_type": "stream",
     "text": [
      "Episode: 0, Mean Return: 5.136, Mean Wealth (V_T): 170.0, Epsilon: 0.95\n",
      "Episode: 1000, Mean Return: 4.586, Mean Wealth (V_T): 115.107, Epsilon: 0.9025\n",
      "Episode: 2000, Mean Return: 4.607, Mean Wealth (V_T): 118.528, Epsilon: 0.9025\n",
      "Episode: 3000, Mean Return: 4.615, Mean Wealth (V_T): 117.533, Epsilon: 0.9025\n",
      "Episode: 4000, Mean Return: 4.598, Mean Wealth (V_T): 118.658, Epsilon: 0.9025\n",
      "Episode: 5000, Mean Return: 4.593, Mean Wealth (V_T): 116.924, Epsilon: 0.9025\n",
      "Episode: 6000, Mean Return: 4.622, Mean Wealth (V_T): 118.462, Epsilon: 0.9025\n",
      "Episode: 7000, Mean Return: 4.592, Mean Wealth (V_T): 117.14, Epsilon: 0.9025\n",
      "Episode: 8000, Mean Return: 4.598, Mean Wealth (V_T): 118.381, Epsilon: 0.9025\n",
      "Episode: 9000, Mean Return: 4.603, Mean Wealth (V_T): 117.494, Epsilon: 0.9025\n",
      "Episode: 10000, Mean Return: 4.579, Mean Wealth (V_T): 115.092, Epsilon: 0.9025\n",
      "Episode: 11000, Mean Return: 4.629, Mean Wealth (V_T): 119.302, Epsilon: 0.9025\n",
      "Episode: 12000, Mean Return: 4.571, Mean Wealth (V_T): 112.684, Epsilon: 0.9025\n",
      "Episode: 13000, Mean Return: 4.63, Mean Wealth (V_T): 122.996, Epsilon: 0.9025\n",
      "Episode: 14000, Mean Return: 4.623, Mean Wealth (V_T): 120.551, Epsilon: 0.9025\n",
      "Episode: 15000, Mean Return: 4.595, Mean Wealth (V_T): 116.069, Epsilon: 0.9025\n",
      "Episode: 16000, Mean Return: 4.605, Mean Wealth (V_T): 119.0, Epsilon: 0.81450625\n",
      "Episode: 17000, Mean Return: 4.622, Mean Wealth (V_T): 119.58, Epsilon: 0.81450625\n",
      "Episode: 18000, Mean Return: 4.635, Mean Wealth (V_T): 121.485, Epsilon: 0.81450625\n",
      "Episode: 19000, Mean Return: 4.553, Mean Wealth (V_T): 109.846, Epsilon: 0.81450625\n",
      "Episode: 20000, Mean Return: 4.621, Mean Wealth (V_T): 119.022, Epsilon: 0.81450625\n",
      "Episode: 21000, Mean Return: 4.597, Mean Wealth (V_T): 116.706, Epsilon: 0.81450625\n",
      "Episode: 22000, Mean Return: 4.631, Mean Wealth (V_T): 121.455, Epsilon: 0.81450625\n",
      "Episode: 23000, Mean Return: 4.586, Mean Wealth (V_T): 114.747, Epsilon: 0.81450625\n",
      "Episode: 24000, Mean Return: 4.631, Mean Wealth (V_T): 119.843, Epsilon: 0.81450625\n",
      "Episode: 25000, Mean Return: 4.609, Mean Wealth (V_T): 117.48, Epsilon: 0.81450625\n",
      "Episode: 26000, Mean Return: 4.602, Mean Wealth (V_T): 117.382, Epsilon: 0.81450625\n",
      "Episode: 27000, Mean Return: 4.595, Mean Wealth (V_T): 115.335, Epsilon: 0.81450625\n",
      "Episode: 28000, Mean Return: 4.598, Mean Wealth (V_T): 117.102, Epsilon: 0.81450625\n",
      "Episode: 29000, Mean Return: 4.603, Mean Wealth (V_T): 118.354, Epsilon: 0.81450625\n",
      "Episode: 30000, Mean Return: 4.594, Mean Wealth (V_T): 116.33, Epsilon: 0.81450625\n",
      "Episode: 31000, Mean Return: 4.643, Mean Wealth (V_T): 121.179, Epsilon: 0.6634204312890625\n",
      "Episode: 32000, Mean Return: 4.607, Mean Wealth (V_T): 116.843, Epsilon: 0.6634204312890625\n",
      "Episode: 33000, Mean Return: 4.621, Mean Wealth (V_T): 118.014, Epsilon: 0.6634204312890625\n",
      "Episode: 34000, Mean Return: 4.589, Mean Wealth (V_T): 114.193, Epsilon: 0.6634204312890625\n",
      "Episode: 35000, Mean Return: 4.595, Mean Wealth (V_T): 116.364, Epsilon: 0.6634204312890625\n",
      "Episode: 36000, Mean Return: 4.612, Mean Wealth (V_T): 117.52, Epsilon: 0.6634204312890625\n",
      "Episode: 37000, Mean Return: 4.624, Mean Wealth (V_T): 117.807, Epsilon: 0.6634204312890625\n",
      "Episode: 38000, Mean Return: 4.63, Mean Wealth (V_T): 121.71, Epsilon: 0.6634204312890625\n",
      "Episode: 39000, Mean Return: 4.594, Mean Wealth (V_T): 114.773, Epsilon: 0.6634204312890625\n",
      "Episode: 40000, Mean Return: 4.593, Mean Wealth (V_T): 115.602, Epsilon: 0.6634204312890625\n",
      "Episode: 41000, Mean Return: 4.604, Mean Wealth (V_T): 115.974, Epsilon: 0.6634204312890625\n",
      "Episode: 42000, Mean Return: 4.632, Mean Wealth (V_T): 120.28, Epsilon: 0.6634204312890625\n",
      "Episode: 43000, Mean Return: 4.615, Mean Wealth (V_T): 117.296, Epsilon: 0.6634204312890625\n",
      "Episode: 44000, Mean Return: 4.617, Mean Wealth (V_T): 117.618, Epsilon: 0.6634204312890625\n",
      "Episode: 45000, Mean Return: 4.609, Mean Wealth (V_T): 115.584, Epsilon: 0.6634204312890625\n",
      "Episode: 46000, Mean Return: 4.614, Mean Wealth (V_T): 113.049, Epsilon: 0.44012666865176564\n",
      "Episode: 47000, Mean Return: 4.615, Mean Wealth (V_T): 115.129, Epsilon: 0.44012666865176564\n",
      "Episode: 48000, Mean Return: 4.596, Mean Wealth (V_T): 110.614, Epsilon: 0.44012666865176564\n",
      "Episode: 49000, Mean Return: 4.638, Mean Wealth (V_T): 117.204, Epsilon: 0.44012666865176564\n",
      "Episode: 50000, Mean Return: 4.613, Mean Wealth (V_T): 114.066, Epsilon: 0.44012666865176564\n",
      "Episode: 51000, Mean Return: 4.589, Mean Wealth (V_T): 110.556, Epsilon: 0.44012666865176564\n",
      "Episode: 52000, Mean Return: 4.598, Mean Wealth (V_T): 111.438, Epsilon: 0.44012666865176564\n",
      "Episode: 53000, Mean Return: 4.601, Mean Wealth (V_T): 114.544, Epsilon: 0.44012666865176564\n",
      "Episode: 54000, Mean Return: 4.596, Mean Wealth (V_T): 110.885, Epsilon: 0.44012666865176564\n",
      "Episode: 55000, Mean Return: 4.623, Mean Wealth (V_T): 115.798, Epsilon: 0.44012666865176564\n",
      "Episode: 56000, Mean Return: 4.612, Mean Wealth (V_T): 114.726, Epsilon: 0.44012666865176564\n",
      "Episode: 57000, Mean Return: 4.631, Mean Wealth (V_T): 118.724, Epsilon: 0.44012666865176564\n",
      "Episode: 58000, Mean Return: 4.605, Mean Wealth (V_T): 113.118, Epsilon: 0.44012666865176564\n",
      "Episode: 59000, Mean Return: 4.613, Mean Wealth (V_T): 112.55, Epsilon: 0.44012666865176564\n",
      "Episode: 60000, Mean Return: 4.607, Mean Wealth (V_T): 112.899, Epsilon: 0.44012666865176564\n",
      "Episode: 61000, Mean Return: 4.612, Mean Wealth (V_T): 106.455, Epsilon: 0.19371148445850112\n",
      "Episode: 62000, Mean Return: 4.604, Mean Wealth (V_T): 106.666, Epsilon: 0.19371148445850112\n",
      "Episode: 63000, Mean Return: 4.606, Mean Wealth (V_T): 105.504, Epsilon: 0.19371148445850112\n",
      "Episode: 64000, Mean Return: 4.629, Mean Wealth (V_T): 109.48, Epsilon: 0.19371148445850112\n",
      "Episode: 65000, Mean Return: 4.611, Mean Wealth (V_T): 107.261, Epsilon: 0.19371148445850112\n",
      "Episode: 66000, Mean Return: 4.623, Mean Wealth (V_T): 108.258, Epsilon: 0.19371148445850112\n",
      "Episode: 67000, Mean Return: 4.619, Mean Wealth (V_T): 109.454, Epsilon: 0.19371148445850112\n",
      "Episode: 68000, Mean Return: 4.608, Mean Wealth (V_T): 106.326, Epsilon: 0.19371148445850112\n",
      "Episode: 69000, Mean Return: 4.629, Mean Wealth (V_T): 111.0, Epsilon: 0.19371148445850112\n",
      "Episode: 70000, Mean Return: 4.616, Mean Wealth (V_T): 107.947, Epsilon: 0.19371148445850112\n",
      "Episode: 71000, Mean Return: 4.623, Mean Wealth (V_T): 109.545, Epsilon: 0.19371148445850112\n",
      "Episode: 72000, Mean Return: 4.604, Mean Wealth (V_T): 105.387, Epsilon: 0.19371148445850112\n",
      "Episode: 73000, Mean Return: 4.633, Mean Wealth (V_T): 111.409, Epsilon: 0.19371148445850112\n",
      "Episode: 74000, Mean Return: 4.628, Mean Wealth (V_T): 109.818, Epsilon: 0.19371148445850112\n",
      "Episode: 75000, Mean Return: 4.608, Mean Wealth (V_T): 105.84, Epsilon: 0.19371148445850112\n",
      "Episode: 76000, Mean Return: 4.619, Mean Wealth (V_T): 102.505, Epsilon: 0.037524139211116116\n",
      "Episode: 77000, Mean Return: 4.627, Mean Wealth (V_T): 103.859, Epsilon: 0.037524139211116116\n",
      "Episode: 78000, Mean Return: 4.609, Mean Wealth (V_T): 101.595, Epsilon: 0.037524139211116116\n",
      "Episode: 79000, Mean Return: 4.62, Mean Wealth (V_T): 103.439, Epsilon: 0.037524139211116116\n",
      "Episode: 80000, Mean Return: 4.627, Mean Wealth (V_T): 103.602, Epsilon: 0.037524139211116116\n",
      "Episode: 81000, Mean Return: 4.623, Mean Wealth (V_T): 103.073, Epsilon: 0.037524139211116116\n",
      "Episode: 82000, Mean Return: 4.615, Mean Wealth (V_T): 102.364, Epsilon: 0.037524139211116116\n",
      "Episode: 83000, Mean Return: 4.638, Mean Wealth (V_T): 105.966, Epsilon: 0.037524139211116116\n",
      "Episode: 84000, Mean Return: 4.623, Mean Wealth (V_T): 103.4, Epsilon: 0.037524139211116116\n",
      "Episode: 85000, Mean Return: 4.619, Mean Wealth (V_T): 102.786, Epsilon: 0.037524139211116116\n",
      "Episode: 86000, Mean Return: 4.626, Mean Wealth (V_T): 103.27, Epsilon: 0.037524139211116116\n",
      "Episode: 87000, Mean Return: 4.619, Mean Wealth (V_T): 102.418, Epsilon: 0.037524139211116116\n",
      "Episode: 88000, Mean Return: 4.617, Mean Wealth (V_T): 102.99, Epsilon: 0.037524139211116116\n",
      "Episode: 89000, Mean Return: 4.623, Mean Wealth (V_T): 102.884, Epsilon: 0.037524139211116116\n",
      "Episode: 90000, Mean Return: 4.612, Mean Wealth (V_T): 101.814, Epsilon: 0.037524139211116116\n",
      "Episode: 91000, Mean Return: 4.618, Mean Wealth (V_T): 101.615, Epsilon: 0.001408061023535222\n",
      "Episode: 92000, Mean Return: 4.618, Mean Wealth (V_T): 101.61, Epsilon: 0.001408061023535222\n"
     ]
    },
    {
     "name": "stdout",
     "output_type": "stream",
     "text": [
      "Episode: 93000, Mean Return: 4.616, Mean Wealth (V_T): 101.512, Epsilon: 0.001408061023535222\n",
      "Episode: 94000, Mean Return: 4.62, Mean Wealth (V_T): 101.85, Epsilon: 0.001408061023535222\n",
      "Episode: 95000, Mean Return: 4.625, Mean Wealth (V_T): 102.26, Epsilon: 0.001408061023535222\n",
      "Episode: 96000, Mean Return: 4.619, Mean Wealth (V_T): 101.651, Epsilon: 0.001408061023535222\n",
      "Episode: 97000, Mean Return: 4.62, Mean Wealth (V_T): 101.767, Epsilon: 0.001408061023535222\n",
      "Episode: 98000, Mean Return: 4.621, Mean Wealth (V_T): 101.832, Epsilon: 0.001408061023535222\n",
      "Episode: 99000, Mean Return: 4.617, Mean Wealth (V_T): 101.495, Epsilon: 0.001408061023535222\n"
     ]
    }
   ],
   "source": [
    "# Logarithmic Utility function\n",
    "#up_prob, up_ret, down_ret, r, T, dt, V_0, actions, wealth_bins, utility\n",
    "env = BinomialTree(up_prob=4/9, up_ret=1, down_ret=-1/2, r=0, T=2, dt=1, V_0=100, actions=actions, wealth_bins=wealth_bins, utility=\"log\")\n",
    "Q, stats = qLearning(env, 100000)"
   ]
  },
  {
   "cell_type": "code",
   "execution_count": 148,
   "metadata": {},
   "outputs": [
    {
     "data": {
      "image/png": "[encoded data removed]",
      "text/plain": [
       "<Figure size 720x360 with 1 Axes>"
      ]
     },
     "metadata": {
      "needs_background": "light"
     },
     "output_type": "display_data"
    },
    {
     "data": {
      "image/png": "[encoded data removed]",
      "text/plain": [
       "<Figure size 720x360 with 1 Axes>"
      ]
     },
     "metadata": {
      "needs_background": "light"
     },
     "output_type": "display_data"
    },
    {
     "data": {
      "image/png": "[encoded data removed]",
      "text/plain": [
       "<Figure size 720x360 with 1 Axes>"
      ]
     },
     "metadata": {
      "needs_background": "light"
     },
     "output_type": "display_data"
    },
    {
     "data": {
      "text/plain": [
       "(<Figure size 720x360 with 1 Axes>,\n",
       " <Figure size 720x360 with 1 Axes>,\n",
       " <Figure size 720x360 with 1 Axes>)"
      ]
     },
     "execution_count": 148,
     "metadata": {},
     "output_type": "execute_result"
    }
   ],
   "source": [
    "plotting.plot_episode_stats(stats) "
   ]
  },
  {
   "cell_type": "code",
   "execution_count": 64,
   "metadata": {},
   "outputs": [
    {
     "name": "stdout",
     "output_type": "stream",
     "text": [
      "Key: (0, 3)\n",
      "State-Action Values:\n",
      "[4.84170558 5.13348058 4.80021071 4.93819519 4.67038424 4.96441077\n",
      " 4.76701978 5.16008729 4.84494637 4.96563342 5.20692788]\n",
      "Best Action (Investment in risky asset): 1.0\n",
      "Key: (1, 5)\n",
      "State-Action Values:\n",
      "[5.05376295 4.97914311 5.10418409 5.10949686 4.99188637 5.28852154\n",
      " 4.84241052 4.88089352 5.23083272 4.78102394 4.86907297]\n",
      "Best Action (Investment in risky asset): 0.5\n",
      "Key: (2, 5)\n",
      "State-Action Values:\n",
      "[0. 0. 0. 0. 0. 0. 0. 0. 0. 0. 0.]\n",
      "Best Action (Investment in risky asset): 0.0\n",
      "Key: (1, 0)\n",
      "State-Action Values:\n",
      "[4.23256866 4.2796955  4.26285433 4.34529593 3.97163315 4.07899241\n",
      " 4.66577191 4.35027859 4.24208063 4.03829795 4.34088121]\n",
      "Best Action (Investment in risky asset): 0.6000000000000001\n",
      "Key: (2, 0)\n",
      "State-Action Values:\n",
      "[0. 0. 0. 0. 0. 0. 0. 0. 0. 0. 0.]\n",
      "Best Action (Investment in risky asset): 0.0\n",
      "Key: (2, 1)\n",
      "State-Action Values:\n",
      "[0. 0. 0. 0. 0. 0. 0. 0. 0. 0. 0.]\n",
      "Best Action (Investment in risky asset): 0.0\n",
      "Key: (1, 3)\n",
      "State-Action Values:\n",
      "[4.60517019 4.61697019 4.6138905  4.5798622  4.63415638 4.61752149\n",
      " 4.84217167 4.53856843 4.21954077 4.4749677  4.78491233]\n",
      "Best Action (Investment in risky asset): 0.6000000000000001\n",
      "Key: (2, 4)\n",
      "State-Action Values:\n",
      "[0. 0. 0. 0. 0. 0. 0. 0. 0. 0. 0.]\n",
      "Best Action (Investment in risky asset): 0.0\n",
      "Key: (1, 2)\n",
      "State-Action Values:\n",
      "[4.55387689 4.6081871  4.53108165 4.53134694 4.54586384 4.82803787\n",
      " 4.62273484 4.45115656 4.48191374 4.35996636 4.43857464]\n",
      "Best Action (Investment in risky asset): 0.5\n",
      "Key: (2, 2)\n",
      "State-Action Values:\n",
      "[0. 0. 0. 0. 0. 0. 0. 0. 0. 0. 0.]\n",
      "Best Action (Investment in risky asset): 0.0\n",
      "Key: (2, 3)\n",
      "State-Action Values:\n",
      "[0. 0. 0. 0. 0. 0. 0. 0. 0. 0. 0.]\n",
      "Best Action (Investment in risky asset): 0.0\n",
      "Key: (1, 1)\n",
      "State-Action Values:\n",
      "[4.49980967 4.50020394 4.56677738 4.42855268 4.50533186 4.50080107\n",
      " 4.74079584 4.35688312 4.24697531 4.66748642 4.60507755]\n",
      "Best Action (Investment in risky asset): 0.6000000000000001\n"
     ]
    }
   ],
   "source": [
    "for key in Q.keys():\n",
    "    print(\"Key:\", key)\n",
    "    print(\"State-Action Values:\", Q[key], sep=\"\\n\")\n",
    "    print(\"Best Action (Investment in risky asset):\", decode_action(np.argmax(Q[key]), actions))"
   ]
  },
  {
   "cell_type": "code",
   "execution_count": 145,
   "metadata": {},
   "outputs": [
    {
     "data": {
      "text/plain": [
       "0.8573749999999999"
      ]
     },
     "execution_count": 145,
     "metadata": {},
     "output_type": "execute_result"
    }
   ],
   "source": [
    "0.95*0.95*0.95"
   ]
  },
  {
   "cell_type": "code",
   "execution_count": null,
   "metadata": {},
   "outputs": [],
   "source": []
  }
 ],
 "metadata": {
  "kernelspec": {
   "display_name": "Python 3",
   "language": "python",
   "name": "python3"
  },
  "language_info": {
   "codemirror_mode": {
    "name": "ipython",
    "version": 3
   },
   "file_extension": ".py",
   "mimetype": "text/x-python",
   "name": "python",
   "nbconvert_exporter": "python",
   "pygments_lexer": "ipython3",
   "version": "3.7.3"
  }
 },
 "nbformat": 4,
 "nbformat_minor": 4
}
