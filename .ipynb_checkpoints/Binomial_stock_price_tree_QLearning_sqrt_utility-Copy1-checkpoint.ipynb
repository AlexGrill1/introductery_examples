{
 "cells": [
  {
   "cell_type": "code",
   "execution_count": 1,
   "metadata": {},
   "outputs": [],
   "source": [
    "# Import libraries\n",
    "import gym\n",
    "from envs.binomial_tree2 import BinomialTree, decode_action    # custom BinomialTree dynamics\n",
    "from envs import plotting\n",
    "import numpy as np\n",
    "import pandas as pd\n",
    "import math\n",
    "from collections import defaultdict\n",
    "import itertools\n",
    "import matplotlib.pyplot as plt"
   ]
  },
  {
   "cell_type": "code",
   "execution_count": 5,
   "metadata": {},
   "outputs": [
    {
     "name": "stdout",
     "output_type": "stream",
     "text": [
      "Actions (Investment in risky asset): [0.  0.1 0.2 0.3 0.4 0.5 0.6 0.7 0.8 0.9 1. ]\n"
     ]
    }
   ],
   "source": [
    "actions = np.arange(0, 1.01, step=0.1)                  #vector of actions, discrete investment decisions in 10% steps\n",
    "#actions = np.array([0, 13/19, 1])\n",
    "print(\"Actions (Investment in risky asset):\", actions)  \n",
    "lower = 90                                              # upper limit of lowest wealth bin [0, lower)\n",
    "upper = 110                                             # lower limit of highest wealth bin [upper, +Inf)\n",
    "delta_bin = 20                                          # wealth-bin width\n",
    "wealth_bins = [0] + np.arange(lower, upper+1, delta_bin).tolist() + [float('Inf')]  # +1 as upper limit is not included"
   ]
  },
  {
   "cell_type": "code",
   "execution_count": 4,
   "metadata": {},
   "outputs": [
    {
     "name": "stdout",
     "output_type": "stream",
     "text": [
      "(0, 1)\n",
      "100\n",
      "((1, 1), 0.0, False, {})\n",
      "100.0\n",
      "((2, 0), -2.9289321881345245, False, {})\n",
      "50.0\n",
      "((3, 0), -2.0710678118654755, False, {})\n",
      "25.0\n",
      "((4, 0), -1.4644660940672622, False, {})\n",
      "12.5\n"
     ]
    }
   ],
   "source": [
    "# Simulation of BinomialTree dynmics\n",
    "print(env.reset())\n",
    "print(env.V_t)\n",
    "print(env.step(0))\n",
    "print(env.V_t)\n",
    "print(env.step(10))\n",
    "print(env.V_t)\n",
    "print(env.step(10))\n",
    "print(env.V_t)\n",
    "print(env.step(10))\n",
    "print(env.V_t)"
   ]
  },
  {
   "cell_type": "markdown",
   "metadata": {},
   "source": [
    "**Epsilon-Greedy Policy**\\\n",
    "Source: https://www.geeksforgeeks.org/q-learning-in-python/#:~:text=Q%2DLearning%20is%20a%20basic,defined%20for%20states%20and%20actions."
   ]
  },
  {
   "cell_type": "code",
   "execution_count": 6,
   "metadata": {},
   "outputs": [],
   "source": [
    "def createEpsilonGreedyPolicy(Q, epsilon, num_actions): \n",
    "    \"\"\" \n",
    "    Creates an epsilon-greedy policy based \n",
    "    on a given Q-function and epsilon. \n",
    "       \n",
    "    Returns a function that takes the state \n",
    "    as an input and returns the probabilities \n",
    "    for each action in the form of a numpy array  \n",
    "    of length of the action space(set of possible actions). \n",
    "    \"\"\"\n",
    "    def policyFunction(state): \n",
    "   \n",
    "        Action_probabilities = np.ones(num_actions, dtype = float) * epsilon / num_actions \n",
    "        best_action = np.argmax(Q[state]) \n",
    "        Action_probabilities[best_action] += (1.0 - epsilon) \n",
    "        return Action_probabilities \n",
    "   \n",
    "    return policyFunction"
   ]
  },
  {
   "cell_type": "markdown",
   "metadata": {},
   "source": [
    "**Q-Learning Algorithm** \\\n",
    "Source: https://www.geeksforgeeks.org/q-learning-in-python/#:~:text=Q%2DLearning%20is%20a%20basic,defined%20for%20states%20and%20actions."
   ]
  },
  {
   "cell_type": "code",
   "execution_count": 11,
   "metadata": {},
   "outputs": [],
   "source": [
    "def qLearning(env, num_episodes, discount_factor = 1, alpha = 0.1, epsilon = 1): \n",
    "    \"\"\" \n",
    "    Q-Learning algorithm: Off-policy TD control. \n",
    "    Finds the optimal greedy policy while improving \n",
    "    following an epsilon-greedy policy\"\"\"\n",
    "       \n",
    "    # Action value function \n",
    "    # A nested dictionary that maps \n",
    "    # state -> (action -> action-value). \n",
    "    Q = defaultdict(lambda: np.zeros(env.action_space.n)) \n",
    "    A = defaultdict(lambda: np.zeros(env.action_space.n))\n",
    "   \n",
    "    # Keeps track of useful statistics \n",
    "    stats = plotting.EpisodeStats( \n",
    "        episode_lengths = np.zeros(num_episodes), \n",
    "        episode_rewards = np.zeros(num_episodes))     \n",
    "       \n",
    "    # Create an epsilon greedy policy function \n",
    "    # appropriately for environment action space \n",
    "    policy = createEpsilonGreedyPolicy(Q, epsilon, env.action_space.n) \n",
    "       \n",
    "    # For every episode\n",
    "    returns=np.array([])\n",
    "    return_ = 0\n",
    "    terminal_wealths = np.array([])\n",
    "    for ith_episode in range(num_episodes): \n",
    "           \n",
    "        # Reset the environment and pick the first action \n",
    "        state = env.reset() \n",
    "           \n",
    "        for t in itertools.count(): \n",
    "               \n",
    "            # get probabilities of all actions from current state \n",
    "            action_probabilities = policy(state)\n",
    "   \n",
    "            # choose action according to  \n",
    "            # the probability distribution \n",
    "            action = np.random.choice(np.arange( \n",
    "                      len(action_probabilities)), \n",
    "                       p = action_probabilities)\n",
    "            A[state][action] += 1\n",
    "   \n",
    "            # take action and get reward, transit to next state \n",
    "            next_state, reward, done, _ = env.step(action)\n",
    "   \n",
    "            # Update statistics \n",
    "            stats.episode_rewards[ith_episode] += reward \n",
    "            stats.episode_lengths[ith_episode] = t\n",
    "               \n",
    "            # TD Update \n",
    "            best_next_action = np.argmax(Q[next_state])     \n",
    "            td_target = reward + discount_factor * Q[next_state][best_next_action] \n",
    "            td_delta = td_target - Q[state][action] \n",
    "            Q[state][action] += (1/A[state][action]) * td_delta      # Dynamic Step-Size (1/k) as in Sutton/Barto p.53\n",
    "   \n",
    "            return_ += reward\n",
    "            # done is True if episode terminated    \n",
    "            if done:\n",
    "                returns = np.append(returns, return_)\n",
    "                terminal_wealths=np.append(terminal_wealths, env.V_t)\n",
    "                return_= 0\n",
    "                break\n",
    "                   \n",
    "            state = next_state\n",
    "        \n",
    "        if (ith_episode % 10000 == 0):            \n",
    "            print(\"Episode: {}, Mean Return: {}, Mean Wealth (V_T): {}, Epsilon: {}, Alpha: {}\".format(ith_episode, round(returns.mean(), 3), round(terminal_wealths.mean(), 3), epsilon, alpha))\n",
    "            #print(\"td_delta:\", td_delta)\n",
    "            #print(Q[(0,1)])\n",
    "            #print(\"Best Action (Investment in risky asset):\", decode_action(np.argmax(Q[(0,1)]), actions))\n",
    "            returns = np.array([])\n",
    "            terminal_wealths=np.array([])\n",
    "            \n",
    "        #if (ith_episode % 100000 == 0):\n",
    "        #    #alpha = 0.0001\n",
    "        #    epsilon *= 0.7\n",
    "        #    alpha *= 0.95\n",
    "        #    policy = createEpsilonGreedyPolicy(Q, epsilon, env.action_space.n)\n",
    "            \n",
    "        # Epsilon-Decay    \n",
    "        #if (ith_episode % 1000 == 0) & (ith_episode != 0):\n",
    "        #    epsilon *= 0.95\n",
    "        #    policy = createEpsilonGreedyPolicy(Q, epsilon, env.action_space.n)\n",
    "        #    alpha = 0.1\n",
    "        \n",
    "        # Alpha-Decay\n",
    "        #if (ith_episode % 20000 == 0) & (ith_episode != 0):\n",
    "        #    if alpha > 0.00011:\n",
    "        #        alpha *= 1/10\n",
    "       \n",
    "    return Q, stats, A"
   ]
  },
  {
   "cell_type": "code",
   "execution_count": 16,
   "metadata": {},
   "outputs": [
    {
     "name": "stdout",
     "output_type": "stream",
     "text": [
      "Episode: 0, Mean Return: 7.416, Mean Wealth (V_T): 55.0, Epsilon: 1, Alpha: 0.1\n",
      "Episode: 10000, Mean Return: 10.364, Mean Wealth (V_T): 116.867, Epsilon: 1, Alpha: 0.1\n",
      "Episode: 20000, Mean Return: 10.402, Mean Wealth (V_T): 117.632, Epsilon: 1, Alpha: 0.1\n",
      "Episode: 30000, Mean Return: 10.438, Mean Wealth (V_T): 118.288, Epsilon: 1, Alpha: 0.1\n",
      "Episode: 40000, Mean Return: 10.373, Mean Wealth (V_T): 116.876, Epsilon: 1, Alpha: 0.1\n",
      "Episode: 50000, Mean Return: 10.365, Mean Wealth (V_T): 116.698, Epsilon: 1, Alpha: 0.1\n",
      "Episode: 60000, Mean Return: 10.388, Mean Wealth (V_T): 117.204, Epsilon: 1, Alpha: 0.1\n",
      "Episode: 70000, Mean Return: 10.39, Mean Wealth (V_T): 117.258, Epsilon: 1, Alpha: 0.1\n",
      "Episode: 80000, Mean Return: 10.373, Mean Wealth (V_T): 116.794, Epsilon: 1, Alpha: 0.1\n",
      "Episode: 90000, Mean Return: 10.385, Mean Wealth (V_T): 117.175, Epsilon: 1, Alpha: 0.1\n",
      "Episode: 100000, Mean Return: 10.39, Mean Wealth (V_T): 117.046, Epsilon: 1, Alpha: 0.1\n",
      "Episode: 110000, Mean Return: 10.369, Mean Wealth (V_T): 116.752, Epsilon: 1, Alpha: 0.1\n",
      "Episode: 120000, Mean Return: 10.454, Mean Wealth (V_T): 118.703, Epsilon: 1, Alpha: 0.1\n",
      "Episode: 130000, Mean Return: 10.38, Mean Wealth (V_T): 116.921, Epsilon: 1, Alpha: 0.1\n",
      "Episode: 140000, Mean Return: 10.425, Mean Wealth (V_T): 118.033, Epsilon: 1, Alpha: 0.1\n",
      "Episode: 150000, Mean Return: 10.411, Mean Wealth (V_T): 117.777, Epsilon: 1, Alpha: 0.1\n",
      "Episode: 160000, Mean Return: 10.392, Mean Wealth (V_T): 117.129, Epsilon: 1, Alpha: 0.1\n",
      "Episode: 170000, Mean Return: 10.413, Mean Wealth (V_T): 117.695, Epsilon: 1, Alpha: 0.1\n",
      "Episode: 180000, Mean Return: 10.419, Mean Wealth (V_T): 117.735, Epsilon: 1, Alpha: 0.1\n",
      "Episode: 190000, Mean Return: 10.394, Mean Wealth (V_T): 117.4, Epsilon: 1, Alpha: 0.1\n",
      "Episode: 200000, Mean Return: 10.394, Mean Wealth (V_T): 117.395, Epsilon: 1, Alpha: 0.1\n",
      "Episode: 210000, Mean Return: 10.432, Mean Wealth (V_T): 118.153, Epsilon: 1, Alpha: 0.1\n",
      "Episode: 220000, Mean Return: 10.386, Mean Wealth (V_T): 117.07, Epsilon: 1, Alpha: 0.1\n",
      "Episode: 230000, Mean Return: 10.396, Mean Wealth (V_T): 117.388, Epsilon: 1, Alpha: 0.1\n",
      "Episode: 240000, Mean Return: 10.401, Mean Wealth (V_T): 117.457, Epsilon: 1, Alpha: 0.1\n",
      "Episode: 250000, Mean Return: 10.335, Mean Wealth (V_T): 116.132, Epsilon: 1, Alpha: 0.1\n",
      "Episode: 260000, Mean Return: 10.413, Mean Wealth (V_T): 117.829, Epsilon: 1, Alpha: 0.1\n",
      "Episode: 270000, Mean Return: 10.378, Mean Wealth (V_T): 116.714, Epsilon: 1, Alpha: 0.1\n",
      "Episode: 280000, Mean Return: 10.415, Mean Wealth (V_T): 117.746, Epsilon: 1, Alpha: 0.1\n",
      "Episode: 290000, Mean Return: 10.415, Mean Wealth (V_T): 117.901, Epsilon: 1, Alpha: 0.1\n",
      "Episode: 300000, Mean Return: 10.397, Mean Wealth (V_T): 117.556, Epsilon: 1, Alpha: 0.1\n",
      "Episode: 310000, Mean Return: 10.425, Mean Wealth (V_T): 117.991, Epsilon: 1, Alpha: 0.1\n",
      "Episode: 320000, Mean Return: 10.358, Mean Wealth (V_T): 116.48, Epsilon: 1, Alpha: 0.1\n",
      "Episode: 330000, Mean Return: 10.377, Mean Wealth (V_T): 116.942, Epsilon: 1, Alpha: 0.1\n",
      "Episode: 340000, Mean Return: 10.442, Mean Wealth (V_T): 118.618, Epsilon: 1, Alpha: 0.1\n",
      "Episode: 350000, Mean Return: 10.383, Mean Wealth (V_T): 117.081, Epsilon: 1, Alpha: 0.1\n",
      "Episode: 360000, Mean Return: 10.411, Mean Wealth (V_T): 117.624, Epsilon: 1, Alpha: 0.1\n",
      "Episode: 370000, Mean Return: 10.398, Mean Wealth (V_T): 117.503, Epsilon: 1, Alpha: 0.1\n",
      "Episode: 380000, Mean Return: 10.336, Mean Wealth (V_T): 116.045, Epsilon: 1, Alpha: 0.1\n",
      "Episode: 390000, Mean Return: 10.431, Mean Wealth (V_T): 118.042, Epsilon: 1, Alpha: 0.1\n",
      "Episode: 400000, Mean Return: 10.385, Mean Wealth (V_T): 117.245, Epsilon: 1, Alpha: 0.1\n",
      "Episode: 410000, Mean Return: 10.436, Mean Wealth (V_T): 118.448, Epsilon: 1, Alpha: 0.1\n",
      "Episode: 420000, Mean Return: 10.371, Mean Wealth (V_T): 116.752, Epsilon: 1, Alpha: 0.1\n",
      "Episode: 430000, Mean Return: 10.416, Mean Wealth (V_T): 117.621, Epsilon: 1, Alpha: 0.1\n",
      "Episode: 440000, Mean Return: 10.398, Mean Wealth (V_T): 117.221, Epsilon: 1, Alpha: 0.1\n",
      "Episode: 450000, Mean Return: 10.376, Mean Wealth (V_T): 116.885, Epsilon: 1, Alpha: 0.1\n",
      "Episode: 460000, Mean Return: 10.386, Mean Wealth (V_T): 117.297, Epsilon: 1, Alpha: 0.1\n",
      "Episode: 470000, Mean Return: 10.382, Mean Wealth (V_T): 116.898, Epsilon: 1, Alpha: 0.1\n",
      "Episode: 480000, Mean Return: 10.46, Mean Wealth (V_T): 118.732, Epsilon: 1, Alpha: 0.1\n",
      "Episode: 490000, Mean Return: 10.4, Mean Wealth (V_T): 117.295, Epsilon: 1, Alpha: 0.1\n",
      "Episode: 500000, Mean Return: 10.391, Mean Wealth (V_T): 117.346, Epsilon: 1, Alpha: 0.1\n",
      "Episode: 510000, Mean Return: 10.449, Mean Wealth (V_T): 118.408, Epsilon: 1, Alpha: 0.1\n",
      "Episode: 520000, Mean Return: 10.371, Mean Wealth (V_T): 116.776, Epsilon: 1, Alpha: 0.1\n",
      "Episode: 530000, Mean Return: 10.31, Mean Wealth (V_T): 115.24, Epsilon: 1, Alpha: 0.1\n",
      "Episode: 540000, Mean Return: 10.377, Mean Wealth (V_T): 116.869, Epsilon: 1, Alpha: 0.1\n",
      "Episode: 550000, Mean Return: 10.433, Mean Wealth (V_T): 118.138, Epsilon: 1, Alpha: 0.1\n",
      "Episode: 560000, Mean Return: 10.377, Mean Wealth (V_T): 116.683, Epsilon: 1, Alpha: 0.1\n",
      "Episode: 570000, Mean Return: 10.416, Mean Wealth (V_T): 117.89, Epsilon: 1, Alpha: 0.1\n",
      "Episode: 580000, Mean Return: 10.417, Mean Wealth (V_T): 117.824, Epsilon: 1, Alpha: 0.1\n",
      "Episode: 590000, Mean Return: 10.405, Mean Wealth (V_T): 117.623, Epsilon: 1, Alpha: 0.1\n",
      "Episode: 600000, Mean Return: 10.433, Mean Wealth (V_T): 118.326, Epsilon: 1, Alpha: 0.1\n",
      "Episode: 610000, Mean Return: 10.376, Mean Wealth (V_T): 116.976, Epsilon: 1, Alpha: 0.1\n",
      "Episode: 620000, Mean Return: 10.404, Mean Wealth (V_T): 117.416, Epsilon: 1, Alpha: 0.1\n",
      "Episode: 630000, Mean Return: 10.373, Mean Wealth (V_T): 116.855, Epsilon: 1, Alpha: 0.1\n",
      "Episode: 640000, Mean Return: 10.401, Mean Wealth (V_T): 117.46, Epsilon: 1, Alpha: 0.1\n",
      "Episode: 650000, Mean Return: 10.381, Mean Wealth (V_T): 117.067, Epsilon: 1, Alpha: 0.1\n",
      "Episode: 660000, Mean Return: 10.408, Mean Wealth (V_T): 117.795, Epsilon: 1, Alpha: 0.1\n",
      "Episode: 670000, Mean Return: 10.38, Mean Wealth (V_T): 116.935, Epsilon: 1, Alpha: 0.1\n",
      "Episode: 680000, Mean Return: 10.411, Mean Wealth (V_T): 117.536, Epsilon: 1, Alpha: 0.1\n",
      "Episode: 690000, Mean Return: 10.383, Mean Wealth (V_T): 117.036, Epsilon: 1, Alpha: 0.1\n",
      "Episode: 700000, Mean Return: 10.385, Mean Wealth (V_T): 117.166, Epsilon: 1, Alpha: 0.1\n",
      "Episode: 710000, Mean Return: 10.378, Mean Wealth (V_T): 116.72, Epsilon: 1, Alpha: 0.1\n",
      "Episode: 720000, Mean Return: 10.349, Mean Wealth (V_T): 116.073, Epsilon: 1, Alpha: 0.1\n",
      "Episode: 730000, Mean Return: 10.375, Mean Wealth (V_T): 116.81, Epsilon: 1, Alpha: 0.1\n",
      "Episode: 740000, Mean Return: 10.334, Mean Wealth (V_T): 115.862, Epsilon: 1, Alpha: 0.1\n",
      "Episode: 750000, Mean Return: 10.386, Mean Wealth (V_T): 116.98, Epsilon: 1, Alpha: 0.1\n",
      "Episode: 760000, Mean Return: 10.384, Mean Wealth (V_T): 117.174, Epsilon: 1, Alpha: 0.1\n",
      "Episode: 770000, Mean Return: 10.361, Mean Wealth (V_T): 116.643, Epsilon: 1, Alpha: 0.1\n",
      "Episode: 780000, Mean Return: 10.375, Mean Wealth (V_T): 116.919, Epsilon: 1, Alpha: 0.1\n",
      "Episode: 790000, Mean Return: 10.374, Mean Wealth (V_T): 116.948, Epsilon: 1, Alpha: 0.1\n",
      "Episode: 800000, Mean Return: 10.355, Mean Wealth (V_T): 116.292, Epsilon: 1, Alpha: 0.1\n",
      "Episode: 810000, Mean Return: 10.417, Mean Wealth (V_T): 118.05, Epsilon: 1, Alpha: 0.1\n",
      "Episode: 820000, Mean Return: 10.416, Mean Wealth (V_T): 117.988, Epsilon: 1, Alpha: 0.1\n",
      "Episode: 830000, Mean Return: 10.361, Mean Wealth (V_T): 116.581, Epsilon: 1, Alpha: 0.1\n",
      "Episode: 840000, Mean Return: 10.395, Mean Wealth (V_T): 117.278, Epsilon: 1, Alpha: 0.1\n",
      "Episode: 850000, Mean Return: 10.327, Mean Wealth (V_T): 115.848, Epsilon: 1, Alpha: 0.1\n",
      "Episode: 860000, Mean Return: 10.408, Mean Wealth (V_T): 117.605, Epsilon: 1, Alpha: 0.1\n",
      "Episode: 870000, Mean Return: 10.382, Mean Wealth (V_T): 117.038, Epsilon: 1, Alpha: 0.1\n",
      "Episode: 880000, Mean Return: 10.374, Mean Wealth (V_T): 116.797, Epsilon: 1, Alpha: 0.1\n",
      "Episode: 890000, Mean Return: 10.429, Mean Wealth (V_T): 118.087, Epsilon: 1, Alpha: 0.1\n",
      "Episode: 900000, Mean Return: 10.428, Mean Wealth (V_T): 118.046, Epsilon: 1, Alpha: 0.1\n",
      "Episode: 910000, Mean Return: 10.41, Mean Wealth (V_T): 117.851, Epsilon: 1, Alpha: 0.1\n",
      "Episode: 920000, Mean Return: 10.45, Mean Wealth (V_T): 118.721, Epsilon: 1, Alpha: 0.1\n"
     ]
    },
    {
     "name": "stdout",
     "output_type": "stream",
     "text": [
      "Episode: 930000, Mean Return: 10.424, Mean Wealth (V_T): 118.094, Epsilon: 1, Alpha: 0.1\n",
      "Episode: 940000, Mean Return: 10.372, Mean Wealth (V_T): 116.823, Epsilon: 1, Alpha: 0.1\n",
      "Episode: 950000, Mean Return: 10.356, Mean Wealth (V_T): 116.491, Epsilon: 1, Alpha: 0.1\n",
      "Episode: 960000, Mean Return: 10.46, Mean Wealth (V_T): 118.797, Epsilon: 1, Alpha: 0.1\n",
      "Episode: 970000, Mean Return: 10.331, Mean Wealth (V_T): 115.982, Epsilon: 1, Alpha: 0.1\n",
      "Episode: 980000, Mean Return: 10.47, Mean Wealth (V_T): 119.183, Epsilon: 1, Alpha: 0.1\n",
      "Episode: 990000, Mean Return: 10.444, Mean Wealth (V_T): 118.429, Epsilon: 1, Alpha: 0.1\n",
      "Episode: 1000000, Mean Return: 10.434, Mean Wealth (V_T): 118.131, Epsilon: 1, Alpha: 0.1\n",
      "Episode: 1010000, Mean Return: 10.421, Mean Wealth (V_T): 118.12, Epsilon: 1, Alpha: 0.1\n",
      "Episode: 1020000, Mean Return: 10.385, Mean Wealth (V_T): 117.187, Epsilon: 1, Alpha: 0.1\n",
      "Episode: 1030000, Mean Return: 10.361, Mean Wealth (V_T): 116.422, Epsilon: 1, Alpha: 0.1\n",
      "Episode: 1040000, Mean Return: 10.429, Mean Wealth (V_T): 118.149, Epsilon: 1, Alpha: 0.1\n",
      "Episode: 1050000, Mean Return: 10.412, Mean Wealth (V_T): 117.764, Epsilon: 1, Alpha: 0.1\n",
      "Episode: 1060000, Mean Return: 10.386, Mean Wealth (V_T): 117.211, Epsilon: 1, Alpha: 0.1\n",
      "Episode: 1070000, Mean Return: 10.365, Mean Wealth (V_T): 116.916, Epsilon: 1, Alpha: 0.1\n",
      "Episode: 1080000, Mean Return: 10.376, Mean Wealth (V_T): 117.03, Epsilon: 1, Alpha: 0.1\n",
      "Episode: 1090000, Mean Return: 10.39, Mean Wealth (V_T): 117.165, Epsilon: 1, Alpha: 0.1\n",
      "Episode: 1100000, Mean Return: 10.387, Mean Wealth (V_T): 117.194, Epsilon: 1, Alpha: 0.1\n",
      "Episode: 1110000, Mean Return: 10.404, Mean Wealth (V_T): 117.656, Epsilon: 1, Alpha: 0.1\n",
      "Episode: 1120000, Mean Return: 10.364, Mean Wealth (V_T): 116.643, Epsilon: 1, Alpha: 0.1\n",
      "Episode: 1130000, Mean Return: 10.322, Mean Wealth (V_T): 115.654, Epsilon: 1, Alpha: 0.1\n",
      "Episode: 1140000, Mean Return: 10.375, Mean Wealth (V_T): 116.78, Epsilon: 1, Alpha: 0.1\n",
      "Episode: 1150000, Mean Return: 10.399, Mean Wealth (V_T): 117.479, Epsilon: 1, Alpha: 0.1\n",
      "Episode: 1160000, Mean Return: 10.357, Mean Wealth (V_T): 116.219, Epsilon: 1, Alpha: 0.1\n",
      "Episode: 1170000, Mean Return: 10.381, Mean Wealth (V_T): 117.106, Epsilon: 1, Alpha: 0.1\n",
      "Episode: 1180000, Mean Return: 10.397, Mean Wealth (V_T): 117.571, Epsilon: 1, Alpha: 0.1\n",
      "Episode: 1190000, Mean Return: 10.424, Mean Wealth (V_T): 117.871, Epsilon: 1, Alpha: 0.1\n",
      "Episode: 1200000, Mean Return: 10.418, Mean Wealth (V_T): 118.212, Epsilon: 1, Alpha: 0.1\n",
      "Episode: 1210000, Mean Return: 10.363, Mean Wealth (V_T): 116.757, Epsilon: 1, Alpha: 0.1\n",
      "Episode: 1220000, Mean Return: 10.43, Mean Wealth (V_T): 118.052, Epsilon: 1, Alpha: 0.1\n",
      "Episode: 1230000, Mean Return: 10.378, Mean Wealth (V_T): 117.008, Epsilon: 1, Alpha: 0.1\n",
      "Episode: 1240000, Mean Return: 10.375, Mean Wealth (V_T): 116.803, Epsilon: 1, Alpha: 0.1\n",
      "Episode: 1250000, Mean Return: 10.417, Mean Wealth (V_T): 117.849, Epsilon: 1, Alpha: 0.1\n",
      "Episode: 1260000, Mean Return: 10.386, Mean Wealth (V_T): 117.291, Epsilon: 1, Alpha: 0.1\n",
      "Episode: 1270000, Mean Return: 10.388, Mean Wealth (V_T): 117.239, Epsilon: 1, Alpha: 0.1\n",
      "Episode: 1280000, Mean Return: 10.388, Mean Wealth (V_T): 117.17, Epsilon: 1, Alpha: 0.1\n",
      "Episode: 1290000, Mean Return: 10.356, Mean Wealth (V_T): 116.348, Epsilon: 1, Alpha: 0.1\n",
      "Episode: 1300000, Mean Return: 10.377, Mean Wealth (V_T): 117.084, Epsilon: 1, Alpha: 0.1\n",
      "Episode: 1310000, Mean Return: 10.379, Mean Wealth (V_T): 116.854, Epsilon: 1, Alpha: 0.1\n",
      "Episode: 1320000, Mean Return: 10.401, Mean Wealth (V_T): 117.476, Epsilon: 1, Alpha: 0.1\n",
      "Episode: 1330000, Mean Return: 10.447, Mean Wealth (V_T): 118.695, Epsilon: 1, Alpha: 0.1\n",
      "Episode: 1340000, Mean Return: 10.403, Mean Wealth (V_T): 117.695, Epsilon: 1, Alpha: 0.1\n",
      "Episode: 1350000, Mean Return: 10.37, Mean Wealth (V_T): 116.817, Epsilon: 1, Alpha: 0.1\n",
      "Episode: 1360000, Mean Return: 10.402, Mean Wealth (V_T): 117.534, Epsilon: 1, Alpha: 0.1\n",
      "Episode: 1370000, Mean Return: 10.39, Mean Wealth (V_T): 117.232, Epsilon: 1, Alpha: 0.1\n",
      "Episode: 1380000, Mean Return: 10.465, Mean Wealth (V_T): 119.304, Epsilon: 1, Alpha: 0.1\n",
      "Episode: 1390000, Mean Return: 10.389, Mean Wealth (V_T): 117.345, Epsilon: 1, Alpha: 0.1\n",
      "Episode: 1400000, Mean Return: 10.407, Mean Wealth (V_T): 117.655, Epsilon: 1, Alpha: 0.1\n",
      "Episode: 1410000, Mean Return: 10.436, Mean Wealth (V_T): 118.152, Epsilon: 1, Alpha: 0.1\n",
      "Episode: 1420000, Mean Return: 10.424, Mean Wealth (V_T): 118.156, Epsilon: 1, Alpha: 0.1\n",
      "Episode: 1430000, Mean Return: 10.401, Mean Wealth (V_T): 117.548, Epsilon: 1, Alpha: 0.1\n",
      "Episode: 1440000, Mean Return: 10.393, Mean Wealth (V_T): 117.28, Epsilon: 1, Alpha: 0.1\n",
      "Episode: 1450000, Mean Return: 10.387, Mean Wealth (V_T): 117.286, Epsilon: 1, Alpha: 0.1\n",
      "Episode: 1460000, Mean Return: 10.404, Mean Wealth (V_T): 117.48, Epsilon: 1, Alpha: 0.1\n",
      "Episode: 1470000, Mean Return: 10.331, Mean Wealth (V_T): 115.571, Epsilon: 1, Alpha: 0.1\n",
      "Episode: 1480000, Mean Return: 10.353, Mean Wealth (V_T): 116.394, Epsilon: 1, Alpha: 0.1\n",
      "Episode: 1490000, Mean Return: 10.393, Mean Wealth (V_T): 117.232, Epsilon: 1, Alpha: 0.1\n",
      "Episode: 1500000, Mean Return: 10.402, Mean Wealth (V_T): 117.552, Epsilon: 1, Alpha: 0.1\n",
      "Episode: 1510000, Mean Return: 10.428, Mean Wealth (V_T): 118.04, Epsilon: 1, Alpha: 0.1\n",
      "Episode: 1520000, Mean Return: 10.376, Mean Wealth (V_T): 117.026, Epsilon: 1, Alpha: 0.1\n",
      "Episode: 1530000, Mean Return: 10.386, Mean Wealth (V_T): 117.036, Epsilon: 1, Alpha: 0.1\n",
      "Episode: 1540000, Mean Return: 10.39, Mean Wealth (V_T): 117.157, Epsilon: 1, Alpha: 0.1\n",
      "Episode: 1550000, Mean Return: 10.441, Mean Wealth (V_T): 118.431, Epsilon: 1, Alpha: 0.1\n",
      "Episode: 1560000, Mean Return: 10.393, Mean Wealth (V_T): 117.241, Epsilon: 1, Alpha: 0.1\n",
      "Episode: 1570000, Mean Return: 10.353, Mean Wealth (V_T): 116.319, Epsilon: 1, Alpha: 0.1\n",
      "Episode: 1580000, Mean Return: 10.338, Mean Wealth (V_T): 115.984, Epsilon: 1, Alpha: 0.1\n",
      "Episode: 1590000, Mean Return: 10.381, Mean Wealth (V_T): 116.981, Epsilon: 1, Alpha: 0.1\n",
      "Episode: 1600000, Mean Return: 10.363, Mean Wealth (V_T): 116.526, Epsilon: 1, Alpha: 0.1\n",
      "Episode: 1610000, Mean Return: 10.405, Mean Wealth (V_T): 117.29, Epsilon: 1, Alpha: 0.1\n",
      "Episode: 1620000, Mean Return: 10.414, Mean Wealth (V_T): 117.994, Epsilon: 1, Alpha: 0.1\n",
      "Episode: 1630000, Mean Return: 10.401, Mean Wealth (V_T): 117.431, Epsilon: 1, Alpha: 0.1\n",
      "Episode: 1640000, Mean Return: 10.409, Mean Wealth (V_T): 117.592, Epsilon: 1, Alpha: 0.1\n",
      "Episode: 1650000, Mean Return: 10.394, Mean Wealth (V_T): 117.317, Epsilon: 1, Alpha: 0.1\n",
      "Episode: 1660000, Mean Return: 10.426, Mean Wealth (V_T): 118.148, Epsilon: 1, Alpha: 0.1\n",
      "Episode: 1670000, Mean Return: 10.4, Mean Wealth (V_T): 117.489, Epsilon: 1, Alpha: 0.1\n",
      "Episode: 1680000, Mean Return: 10.421, Mean Wealth (V_T): 118.072, Epsilon: 1, Alpha: 0.1\n",
      "Episode: 1690000, Mean Return: 10.403, Mean Wealth (V_T): 117.533, Epsilon: 1, Alpha: 0.1\n",
      "Episode: 1700000, Mean Return: 10.385, Mean Wealth (V_T): 117.097, Epsilon: 1, Alpha: 0.1\n",
      "Episode: 1710000, Mean Return: 10.395, Mean Wealth (V_T): 117.457, Epsilon: 1, Alpha: 0.1\n",
      "Episode: 1720000, Mean Return: 10.406, Mean Wealth (V_T): 117.544, Epsilon: 1, Alpha: 0.1\n",
      "Episode: 1730000, Mean Return: 10.436, Mean Wealth (V_T): 118.237, Epsilon: 1, Alpha: 0.1\n",
      "Episode: 1740000, Mean Return: 10.443, Mean Wealth (V_T): 118.204, Epsilon: 1, Alpha: 0.1\n",
      "Episode: 1750000, Mean Return: 10.356, Mean Wealth (V_T): 116.509, Epsilon: 1, Alpha: 0.1\n",
      "Episode: 1760000, Mean Return: 10.352, Mean Wealth (V_T): 116.39, Epsilon: 1, Alpha: 0.1\n",
      "Episode: 1770000, Mean Return: 10.419, Mean Wealth (V_T): 117.976, Epsilon: 1, Alpha: 0.1\n",
      "Episode: 1780000, Mean Return: 10.363, Mean Wealth (V_T): 116.482, Epsilon: 1, Alpha: 0.1\n",
      "Episode: 1790000, Mean Return: 10.369, Mean Wealth (V_T): 116.796, Epsilon: 1, Alpha: 0.1\n",
      "Episode: 1800000, Mean Return: 10.442, Mean Wealth (V_T): 118.395, Epsilon: 1, Alpha: 0.1\n",
      "Episode: 1810000, Mean Return: 10.382, Mean Wealth (V_T): 117.079, Epsilon: 1, Alpha: 0.1\n",
      "Episode: 1820000, Mean Return: 10.432, Mean Wealth (V_T): 118.174, Epsilon: 1, Alpha: 0.1\n",
      "Episode: 1830000, Mean Return: 10.349, Mean Wealth (V_T): 116.237, Epsilon: 1, Alpha: 0.1\n",
      "Episode: 1840000, Mean Return: 10.445, Mean Wealth (V_T): 118.74, Epsilon: 1, Alpha: 0.1\n"
     ]
    },
    {
     "name": "stdout",
     "output_type": "stream",
     "text": [
      "Episode: 1850000, Mean Return: 10.375, Mean Wealth (V_T): 116.92, Epsilon: 1, Alpha: 0.1\n",
      "Episode: 1860000, Mean Return: 10.396, Mean Wealth (V_T): 117.173, Epsilon: 1, Alpha: 0.1\n",
      "Episode: 1870000, Mean Return: 10.367, Mean Wealth (V_T): 116.792, Epsilon: 1, Alpha: 0.1\n",
      "Episode: 1880000, Mean Return: 10.424, Mean Wealth (V_T): 117.981, Epsilon: 1, Alpha: 0.1\n",
      "Episode: 1890000, Mean Return: 10.335, Mean Wealth (V_T): 116.016, Epsilon: 1, Alpha: 0.1\n",
      "Episode: 1900000, Mean Return: 10.466, Mean Wealth (V_T): 118.823, Epsilon: 1, Alpha: 0.1\n",
      "Episode: 1910000, Mean Return: 10.407, Mean Wealth (V_T): 117.591, Epsilon: 1, Alpha: 0.1\n",
      "Episode: 1920000, Mean Return: 10.443, Mean Wealth (V_T): 118.357, Epsilon: 1, Alpha: 0.1\n",
      "Episode: 1930000, Mean Return: 10.354, Mean Wealth (V_T): 116.221, Epsilon: 1, Alpha: 0.1\n",
      "Episode: 1940000, Mean Return: 10.413, Mean Wealth (V_T): 117.8, Epsilon: 1, Alpha: 0.1\n",
      "Episode: 1950000, Mean Return: 10.39, Mean Wealth (V_T): 117.21, Epsilon: 1, Alpha: 0.1\n",
      "Episode: 1960000, Mean Return: 10.408, Mean Wealth (V_T): 117.561, Epsilon: 1, Alpha: 0.1\n",
      "Episode: 1970000, Mean Return: 10.401, Mean Wealth (V_T): 117.439, Epsilon: 1, Alpha: 0.1\n",
      "Episode: 1980000, Mean Return: 10.399, Mean Wealth (V_T): 117.483, Epsilon: 1, Alpha: 0.1\n",
      "Episode: 1990000, Mean Return: 10.412, Mean Wealth (V_T): 117.694, Epsilon: 1, Alpha: 0.1\n"
     ]
    }
   ],
   "source": [
    "# Square root utility function\n",
    "#up_prob, up_ret, down_ret, r, T, dt, V_0, actions, wealth_bins, utility\n",
    "env = BinomialTree(up_prob=4/9, up_ret=1, down_ret=-1/2, r=0, T=2, dt=1, V_0=100, actions=actions, wealth_bins=wealth_bins, utility=\"sqrt\")\n",
    "Q, stats, A = qLearning(env, 2000000)"
   ]
  },
  {
   "cell_type": "code",
   "execution_count": 13,
   "metadata": {
    "scrolled": true
   },
   "outputs": [
    {
     "data": {
      "image/png": "[encoded data removed]",
      "text/plain": [
       "<Figure size 720x360 with 1 Axes>"
      ]
     },
     "metadata": {
      "needs_background": "light"
     },
     "output_type": "display_data"
    },
    {
     "data": {
      "image/png": "[encoded data removed]",
      "text/plain": [
       "<Figure size 720x360 with 1 Axes>"
      ]
     },
     "metadata": {
      "needs_background": "light"
     },
     "output_type": "display_data"
    },
    {
     "data": {
      "image/png": "[encoded data removed]",
      "text/plain": [
       "<Figure size 720x360 with 1 Axes>"
      ]
     },
     "metadata": {
      "needs_background": "light"
     },
     "output_type": "display_data"
    },
    {
     "data": {
      "text/plain": [
       "(<Figure size 720x360 with 1 Axes>,\n",
       " <Figure size 720x360 with 1 Axes>,\n",
       " <Figure size 720x360 with 1 Axes>)"
      ]
     },
     "execution_count": 13,
     "metadata": {},
     "output_type": "execute_result"
    }
   ],
   "source": [
    "plotting.plot_episode_stats(stats) "
   ]
  },
  {
   "cell_type": "code",
   "execution_count": 17,
   "metadata": {},
   "outputs": [
    {
     "name": "stdout",
     "output_type": "stream",
     "text": [
      "Key: (0, 1)\n",
      "State-Action Values:\n",
      "[10.30518735 10.40394109 10.47056372 10.4769524  10.50878714 10.54497478\n",
      " 10.55305198 10.56657916 10.5599941  10.53029976 10.5019191 ]\n",
      "Best Action (Investment in risky asset): 0.7000000000000001\n",
      "Key: (1, 0)\n",
      "State-Action Values:\n",
      "[10.         10.0640891  10.11689133 10.15499601 10.18440755 10.20403313\n",
      " 10.22259988 10.22803383 10.20402269 10.19207069 10.18138697]\n",
      "Best Action (Investment in risky asset): 0.7000000000000001\n",
      "Key: (2, 0)\n",
      "State-Action Values:\n",
      "[0. 0. 0. 0. 0. 0. 0. 0. 0. 0. 0.]\n",
      "Best Action (Investment in risky asset): 0.0\n",
      "Key: (1, 1)\n",
      "State-Action Values:\n",
      "[10.         10.07719532 10.13292623 10.18193721 10.22543978 10.24530947\n",
      " 10.26720525 10.24211683 10.24768351 10.24272872 10.21901701]\n",
      "Best Action (Investment in risky asset): 0.6000000000000001\n",
      "Key: (2, 2)\n",
      "State-Action Values:\n",
      "[0. 0. 0. 0. 0. 0. 0. 0. 0. 0. 0.]\n",
      "Best Action (Investment in risky asset): 0.0\n",
      "Key: (1, 2)\n",
      "State-Action Values:\n",
      "[10.         10.09316612 10.17492216 10.23576442 10.28352002 10.31543097\n",
      " 10.32392838 10.32760438 10.3554475  10.28185872 10.28543282]\n",
      "Best Action (Investment in risky asset): 0.8\n",
      "Key: (2, 1)\n",
      "State-Action Values:\n",
      "[0. 0. 0. 0. 0. 0. 0. 0. 0. 0. 0.]\n",
      "Best Action (Investment in risky asset): 0.0\n"
     ]
    }
   ],
   "source": [
    "for key in Q.keys():\n",
    "    print(\"Key:\", key)\n",
    "    print(\"State-Action Values:\", Q[key], sep=\"\\n\")\n",
    "    print(\"Best Action (Investment in risky asset):\", decode_action(np.argmax(Q[key]), actions))"
   ]
  },
  {
   "cell_type": "code",
   "execution_count": 15,
   "metadata": {},
   "outputs": [
    {
     "name": "stdout",
     "output_type": "stream",
     "text": [
      "State: (0, 1), Actions: [90526. 90882. 90760. 91297. 90658. 90713. 91298. 90982. 90798. 91006.\n",
      " 91080.]\n",
      "State: (1, 0), Actions: [36947. 36793. 36556. 37053. 36673. 36472. 36778. 37084. 36645. 36625.\n",
      " 36729.]\n",
      "State: (1, 2), Actions: [37115. 36653. 36561. 36903. 36723. 36489. 36771. 37185. 37181. 36667.\n",
      " 36444.]\n",
      "State: (1, 1), Actions: [17554. 17239. 17397. 17361. 17408. 17324. 17499. 17187. 17312. 17289.\n",
      " 17383.]\n"
     ]
    }
   ],
   "source": [
    "# How often was each action take in each state\n",
    "for key in A:\n",
    "    print(\"State: {}, Actions: {}\".format(key, A[key]))"
   ]
  },
  {
   "cell_type": "code",
   "execution_count": 14,
   "metadata": {},
   "outputs": [
    {
     "name": "stdout",
     "output_type": "stream",
     "text": [
      "[10.         10.07625841 10.13910772 10.18941548 10.22777753 10.25456278\n",
      " 10.26993821 10.27387866 10.26616277 10.24635416 10.21376462]\n"
     ]
    }
   ],
   "source": [
    "def true_avf(x):\n",
    "    return(4/9 * math.sqrt(2*x*100 + (1-x)*100) + 5/9 * math.sqrt(0.5*x*100 + (1-x)*100))\n",
    "\n",
    "true_Q = np.array([true_avf(x) for x in actions])\n",
    "print(true_Q)"
   ]
  },
  {
   "cell_type": "code",
   "execution_count": null,
   "metadata": {},
   "outputs": [],
   "source": [
    "learning_rates = np.array([0.0001, 0.001, 0.01, 0.1, 0.2, 0.5])\n",
    "num_episodes   = np.array([100, 1000, 2000, 5000, 10000, 50000, 100000])\n",
    "\n",
    "Q_values = np.zeros((len(num_episodes), len(learning_rates)))\n",
    "for i in range(len(num_episodes)):\n",
    "    for j in range(len(learning_rates)):\n",
    "        episodes = num_episodes[i]\n",
    "        alpha = learning_rates[j]\n",
    "        print(episodes, alpha)\n",
    "        Q, _, _ = qLearning(env, num_episodes = episodes, discount_factor = 1, alpha = alpha, epsilon = 1)\n",
    "        Q_values[i][j] = np.sqrt(np.sum((Q[(0,1)]-true_Q) ** 2))"
   ]
  },
  {
   "cell_type": "code",
   "execution_count": null,
   "metadata": {},
   "outputs": [],
   "source": [
    "plt.plot(num_episodes, Q_values.transpose()[0], label=\"Alpha=\"+str(learning_rates[0]))\n",
    "plt.plot(num_episodes, Q_values.transpose()[1], label=\"Alpha=\"+str(learning_rates[1]))\n",
    "plt.plot(num_episodes, Q_values.transpose()[2], label=\"Alpha=\"+str(learning_rates[2]))\n",
    "plt.plot(num_episodes, Q_values.transpose()[3], label=\"Alpha=\"+str(learning_rates[3]))\n",
    "plt.plot(num_episodes, Q_values.transpose()[4], label=\"Alpha=\"+str(learning_rates[4]))\n",
    "plt.plot(num_episodes, Q_values.transpose()[5], label=\"Alpha=\"+str(learning_rates[5]))\n",
    "plt.xlabel(\"Episodes\")\n",
    "plt.ylabel(\"RMS error to true value function\")\n",
    "plt.legend()\n",
    "plt.title(\"Convergence of Q-values for different constant step sizes\")\n",
    "plt.savefig(\"testplot.jpg\")\n",
    "plt.show()"
   ]
  },
  {
   "cell_type": "code",
   "execution_count": null,
   "metadata": {},
   "outputs": [],
   "source": []
  }
 ],
 "metadata": {
  "kernelspec": {
   "display_name": "Python 3",
   "language": "python",
   "name": "python3"
  },
  "language_info": {
   "codemirror_mode": {
    "name": "ipython",
    "version": 3
   },
   "file_extension": ".py",
   "mimetype": "text/x-python",
   "name": "python",
   "nbconvert_exporter": "python",
   "pygments_lexer": "ipython3",
   "version": "3.7.3"
  }
 },
 "nbformat": 4,
 "nbformat_minor": 4
}
