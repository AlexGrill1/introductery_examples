{
 "cells": [
  {
   "cell_type": "code",
   "execution_count": 1,
   "metadata": {},
   "outputs": [],
   "source": [
    "import gym\n",
    "from envs.binomial_tree import BinomialTree, decode_action \n",
    "from envs import plotting\n",
    "import numpy as np\n",
    "import pandas as pd\n",
    "import math\n",
    "from collections import defaultdict\n",
    "import itertools"
   ]
  },
  {
   "cell_type": "code",
   "execution_count": 65,
   "metadata": {},
   "outputs": [
    {
     "name": "stdout",
     "output_type": "stream",
     "text": [
      "Actions (Investment in risky asset): [0.  0.1 0.2 0.3 0.4 0.5 0.6 0.7 0.8 0.9 1. ]\n"
     ]
    }
   ],
   "source": [
    "actions = np.arange(0, 1.01, step=0.1)   #vector of actions\n",
    "#actions = np.array([0, 1])\n",
    "print(\"Actions (Investment in risky asset):\", actions)\n",
    "lower = 90\n",
    "upper = 110\n",
    "delta_bin = 20\n",
    "wealth_bins = [0] + np.arange(lower, upper+1, delta_bin).tolist() + [float('Inf')]  # +1 as upper limit is not included"
   ]
  },
  {
   "cell_type": "code",
   "execution_count": 102,
   "metadata": {},
   "outputs": [
    {
     "name": "stdout",
     "output_type": "stream",
     "text": [
      "(0, 3)\n",
      "((1, 5), 0, False, {})\n",
      "((2, 3), 4.605170185988092, True, {})\n",
      "100.0\n"
     ]
    }
   ],
   "source": [
    "print(env.reset())\n",
    "print(env.step(10))\n",
    "print(env.step(10))\n",
    "print(env.V_t)"
   ]
  },
  {
   "cell_type": "code",
   "execution_count": 4,
   "metadata": {},
   "outputs": [],
   "source": [
    "def createEpsilonGreedyPolicy(Q, epsilon, num_actions): \n",
    "    \"\"\" \n",
    "    Creates an epsilon-greedy policy based \n",
    "    on a given Q-function and epsilon. \n",
    "       \n",
    "    Returns a function that takes the state \n",
    "    as an input and returns the probabilities \n",
    "    for each action in the form of a numpy array  \n",
    "    of length of the action space(set of possible actions). \n",
    "    \"\"\"\n",
    "    def policyFunction(state): \n",
    "   \n",
    "        Action_probabilities = np.ones(num_actions, \n",
    "                dtype = float) * epsilon / num_actions \n",
    "                  \n",
    "        best_action = np.argmax(Q[state]) \n",
    "        Action_probabilities[best_action] += (1.0 - epsilon) \n",
    "        return Action_probabilities \n",
    "   \n",
    "    return policyFunction"
   ]
  },
  {
   "cell_type": "code",
   "execution_count": 157,
   "metadata": {},
   "outputs": [],
   "source": [
    "def qLearning(env, num_episodes, discount_factor = 1, alpha = 0.5, epsilon = 0.95): \n",
    "    \"\"\" \n",
    "    Q-Learning algorithm: Off-policy TD control. \n",
    "    Finds the optimal greedy policy while improving \n",
    "    following an epsilon-greedy policy\"\"\"\n",
    "       \n",
    "    # Action value function \n",
    "    # A nested dictionary that maps \n",
    "    # state -> (action -> action-value). \n",
    "    Q = defaultdict(lambda: np.zeros(env.action_space.n)) \n",
    "   \n",
    "    # Keeps track of useful statistics \n",
    "    stats = plotting.EpisodeStats( \n",
    "        episode_lengths = np.zeros(num_episodes), \n",
    "        episode_rewards = np.zeros(num_episodes))     \n",
    "       \n",
    "    # Create an epsilon greedy policy function \n",
    "    # appropriately for environment action space \n",
    "    policy = createEpsilonGreedyPolicy(Q, epsilon, env.action_space.n) \n",
    "       \n",
    "    # For every episode\n",
    "    returns=np.array([])\n",
    "    terminal_wealths = np.array([])\n",
    "    for ith_episode in range(num_episodes): \n",
    "           \n",
    "        # Reset the environment and pick the first action \n",
    "        state = env.reset() \n",
    "           \n",
    "        for t in itertools.count(): \n",
    "               \n",
    "            # get probabilities of all actions from current state \n",
    "            action_probabilities = policy(state)\n",
    "   \n",
    "            # choose action according to  \n",
    "            # the probability distribution \n",
    "            #action = np.random.choice(np.arange( \n",
    "            #          len(action_probabilities)), \n",
    "            #           p = action_probabilities) \n",
    "            action = 7\n",
    "   \n",
    "            # take action and get reward, transit to next state \n",
    "            next_state, reward, done, _ = env.step(action)\n",
    "            #print(\"t: {}, V_t: {}, action: {}, next state: {}, reward {}, done {}\".format(t, round(env.V_t, 2), round(decode_action(action, actions), 2), next_state, reward, done))\n",
    "   \n",
    "            # Update statistics \n",
    "            stats.episode_rewards[ith_episode] += reward \n",
    "            stats.episode_lengths[ith_episode] = t\n",
    "               \n",
    "            # TD Update \n",
    "            best_next_action = np.argmax(Q[next_state])     \n",
    "            td_target = reward + discount_factor * Q[next_state][best_next_action] \n",
    "            td_delta = td_target - Q[state][action] \n",
    "            Q[state][action] += alpha * td_delta\n",
    "   \n",
    "            # done is True if episode terminated    \n",
    "            if done: \n",
    "                returns = np.append(returns, reward)\n",
    "                terminal_wealths=np.append(terminal_wealths, env.V_t)\n",
    "                break\n",
    "                   \n",
    "            state = next_state\n",
    "        \n",
    "        if ith_episode % 1000 == 0:            \n",
    "            print(\"Episode: {}, Mean Return: {}, Mean Wealth (V_T): {}, Epsilon: {}\".format(ith_episode, round(returns.mean(), 3), round(terminal_wealths.mean(), 3), epsilon))\n",
    "            returns = np.array([])\n",
    "            terminal_wealths=np.array([])\n",
    "            \n",
    "        # Epsilon-Decay    \n",
    "        if ith_episode % 1000 == 0:\n",
    "            epsilon *= 0.95\n",
    "            policy = createEpsilonGreedyPolicy(Q, epsilon, env.action_space.n) \n",
    "            \n",
    "       \n",
    "    return Q, stats"
   ]
  },
  {
   "cell_type": "code",
   "execution_count": 158,
   "metadata": {},
   "outputs": [
    {
     "name": "stdout",
     "output_type": "stream",
     "text": [
      "Episode: 0, Mean Return: 3.744, Mean Wealth (V_T): 42.25, Epsilon: 0.95\n",
      "Episode: 1000, Mean Return: 4.556, Mean Wealth (V_T): 119.325, Epsilon: 0.9025\n",
      "Episode: 2000, Mean Return: 4.573, Mean Wealth (V_T): 121.546, Epsilon: 0.8573749999999999\n",
      "Episode: 3000, Mean Return: 4.577, Mean Wealth (V_T): 123.252, Epsilon: 0.8145062499999999\n",
      "Episode: 4000, Mean Return: 4.611, Mean Wealth (V_T): 127.626, Epsilon: 0.7737809374999999\n",
      "Episode: 5000, Mean Return: 4.628, Mean Wealth (V_T): 128.523, Epsilon: 0.7350918906249998\n",
      "Episode: 6000, Mean Return: 4.548, Mean Wealth (V_T): 120.543, Epsilon: 0.6983372960937497\n",
      "Episode: 7000, Mean Return: 4.596, Mean Wealth (V_T): 125.61, Epsilon: 0.6634204312890623\n",
      "Episode: 8000, Mean Return: 4.619, Mean Wealth (V_T): 127.027, Epsilon: 0.6302494097246091\n",
      "Episode: 9000, Mean Return: 4.591, Mean Wealth (V_T): 124.538, Epsilon: 0.5987369392383786\n",
      "Episode: 10000, Mean Return: 4.612, Mean Wealth (V_T): 125.93, Epsilon: 0.5688000922764596\n",
      "Episode: 11000, Mean Return: 4.582, Mean Wealth (V_T): 123.042, Epsilon: 0.5403600876626365\n",
      "Episode: 12000, Mean Return: 4.601, Mean Wealth (V_T): 125.289, Epsilon: 0.5133420832795047\n",
      "Episode: 13000, Mean Return: 4.59, Mean Wealth (V_T): 124.25, Epsilon: 0.48767497911552943\n",
      "Episode: 14000, Mean Return: 4.572, Mean Wealth (V_T): 122.029, Epsilon: 0.46329123015975293\n",
      "Episode: 15000, Mean Return: 4.556, Mean Wealth (V_T): 119.656, Epsilon: 0.44012666865176525\n",
      "Episode: 16000, Mean Return: 4.567, Mean Wealth (V_T): 119.304, Epsilon: 0.41812033521917696\n",
      "Episode: 17000, Mean Return: 4.633, Mean Wealth (V_T): 129.746, Epsilon: 0.3972143184582181\n",
      "Episode: 18000, Mean Return: 4.588, Mean Wealth (V_T): 122.79, Epsilon: 0.37735360253530714\n",
      "Episode: 19000, Mean Return: 4.604, Mean Wealth (V_T): 124.722, Epsilon: 0.35848592240854177\n",
      "Episode: 20000, Mean Return: 4.603, Mean Wealth (V_T): 123.882, Epsilon: 0.34056162628811465\n",
      "Episode: 21000, Mean Return: 4.593, Mean Wealth (V_T): 125.074, Epsilon: 0.3235335449737089\n",
      "Episode: 22000, Mean Return: 4.594, Mean Wealth (V_T): 123.378, Epsilon: 0.30735686772502346\n",
      "Episode: 23000, Mean Return: 4.572, Mean Wealth (V_T): 121.919, Epsilon: 0.2919890243387723\n",
      "Episode: 24000, Mean Return: 4.609, Mean Wealth (V_T): 126.497, Epsilon: 0.27738957312183365\n",
      "Episode: 25000, Mean Return: 4.625, Mean Wealth (V_T): 129.2, Epsilon: 0.263520094465742\n",
      "Episode: 26000, Mean Return: 4.627, Mean Wealth (V_T): 128.455, Epsilon: 0.25034408974245487\n",
      "Episode: 27000, Mean Return: 4.612, Mean Wealth (V_T): 126.591, Epsilon: 0.2378268852553321\n",
      "Episode: 28000, Mean Return: 4.647, Mean Wealth (V_T): 131.101, Epsilon: 0.2259355409925655\n",
      "Episode: 29000, Mean Return: 4.61, Mean Wealth (V_T): 126.014, Epsilon: 0.2146387639429372\n",
      "Episode: 30000, Mean Return: 4.624, Mean Wealth (V_T): 127.589, Epsilon: 0.20390682574579033\n",
      "Episode: 31000, Mean Return: 4.583, Mean Wealth (V_T): 122.449, Epsilon: 0.1937114844585008\n",
      "Episode: 32000, Mean Return: 4.598, Mean Wealth (V_T): 123.651, Epsilon: 0.18402591023557577\n",
      "Episode: 33000, Mean Return: 4.578, Mean Wealth (V_T): 122.108, Epsilon: 0.17482461472379698\n",
      "Episode: 34000, Mean Return: 4.571, Mean Wealth (V_T): 122.071, Epsilon: 0.16608338398760714\n",
      "Episode: 35000, Mean Return: 4.604, Mean Wealth (V_T): 125.714, Epsilon: 0.15777921478822676\n",
      "Episode: 36000, Mean Return: 4.582, Mean Wealth (V_T): 123.263, Epsilon: 0.14989025404881542\n",
      "Episode: 37000, Mean Return: 4.593, Mean Wealth (V_T): 124.192, Epsilon: 0.14239574134637464\n",
      "Episode: 38000, Mean Return: 4.54, Mean Wealth (V_T): 116.511, Epsilon: 0.1352759542790559\n",
      "Episode: 39000, Mean Return: 4.634, Mean Wealth (V_T): 128.271, Epsilon: 0.1285121565651031\n",
      "Episode: 40000, Mean Return: 4.587, Mean Wealth (V_T): 122.391, Epsilon: 0.12208654873684793\n",
      "Episode: 41000, Mean Return: 4.59, Mean Wealth (V_T): 122.927, Epsilon: 0.11598222130000553\n",
      "Episode: 42000, Mean Return: 4.61, Mean Wealth (V_T): 125.683, Epsilon: 0.11018311023500525\n",
      "Episode: 43000, Mean Return: 4.623, Mean Wealth (V_T): 127.631, Epsilon: 0.10467395472325498\n",
      "Episode: 44000, Mean Return: 4.583, Mean Wealth (V_T): 122.78, Epsilon: 0.09944025698709223\n",
      "Episode: 45000, Mean Return: 4.595, Mean Wealth (V_T): 123.446, Epsilon: 0.09446824413773762\n",
      "Episode: 46000, Mean Return: 4.59, Mean Wealth (V_T): 126.234, Epsilon: 0.08974483193085074\n",
      "Episode: 47000, Mean Return: 4.616, Mean Wealth (V_T): 128.077, Epsilon: 0.0852575903343082\n",
      "Episode: 48000, Mean Return: 4.589, Mean Wealth (V_T): 122.858, Epsilon: 0.08099471081759278\n",
      "Episode: 49000, Mean Return: 4.588, Mean Wealth (V_T): 122.79, Epsilon: 0.07694497527671314\n",
      "Episode: 50000, Mean Return: 4.608, Mean Wealth (V_T): 125.988, Epsilon: 0.07309772651287748\n",
      "Episode: 51000, Mean Return: 4.611, Mean Wealth (V_T): 126.082, Epsilon: 0.0694428401872336\n",
      "Episode: 52000, Mean Return: 4.586, Mean Wealth (V_T): 123.315, Epsilon: 0.0659706981778719\n",
      "Episode: 53000, Mean Return: 4.625, Mean Wealth (V_T): 128.318, Epsilon: 0.0626721632689783\n",
      "Episode: 54000, Mean Return: 4.62, Mean Wealth (V_T): 126.875, Epsilon: 0.059538555105529384\n",
      "Episode: 55000, Mean Return: 4.591, Mean Wealth (V_T): 123.987, Epsilon: 0.05656162735025291\n",
      "Episode: 56000, Mean Return: 4.561, Mean Wealth (V_T): 119.336, Epsilon: 0.053733545982740265\n",
      "Episode: 57000, Mean Return: 4.615, Mean Wealth (V_T): 125.804, Epsilon: 0.05104686868360325\n",
      "Episode: 58000, Mean Return: 4.587, Mean Wealth (V_T): 123.935, Epsilon: 0.04849452524942309\n",
      "Episode: 59000, Mean Return: 4.57, Mean Wealth (V_T): 121.892, Epsilon: 0.04606979898695193\n",
      "Episode: 60000, Mean Return: 4.563, Mean Wealth (V_T): 121.126, Epsilon: 0.04376630903760433\n",
      "Episode: 61000, Mean Return: 4.576, Mean Wealth (V_T): 120.869, Epsilon: 0.041577993585724116\n",
      "Episode: 62000, Mean Return: 4.582, Mean Wealth (V_T): 124.255, Epsilon: 0.03949909390643791\n",
      "Episode: 63000, Mean Return: 4.595, Mean Wealth (V_T): 125.431, Epsilon: 0.03752413921111601\n",
      "Episode: 64000, Mean Return: 4.6, Mean Wealth (V_T): 124.229, Epsilon: 0.03564793225056021\n",
      "Episode: 65000, Mean Return: 4.589, Mean Wealth (V_T): 123.74, Epsilon: 0.0338655356380322\n",
      "Episode: 66000, Mean Return: 4.59, Mean Wealth (V_T): 124.58, Epsilon: 0.032172258856130585\n",
      "Episode: 67000, Mean Return: 4.625, Mean Wealth (V_T): 127.767, Epsilon: 0.030563645913324056\n",
      "Episode: 68000, Mean Return: 4.61, Mean Wealth (V_T): 125.242, Epsilon: 0.029035463617657853\n",
      "Episode: 69000, Mean Return: 4.599, Mean Wealth (V_T): 124.602, Epsilon: 0.027583690436774957\n",
      "Episode: 70000, Mean Return: 4.589, Mean Wealth (V_T): 123.41, Epsilon: 0.02620450591493621\n",
      "Episode: 71000, Mean Return: 4.626, Mean Wealth (V_T): 128.387, Epsilon: 0.0248942806191894\n",
      "Episode: 72000, Mean Return: 4.614, Mean Wealth (V_T): 128.933, Epsilon: 0.023649566588229927\n",
      "Episode: 73000, Mean Return: 4.591, Mean Wealth (V_T): 125.09, Epsilon: 0.022467088258818428\n",
      "Episode: 74000, Mean Return: 4.575, Mean Wealth (V_T): 122.785, Epsilon: 0.021343733845877507\n",
      "Episode: 75000, Mean Return: 4.619, Mean Wealth (V_T): 128.35, Epsilon: 0.02027654715358363\n",
      "Episode: 76000, Mean Return: 4.559, Mean Wealth (V_T): 119.31, Epsilon: 0.019262719795904448\n",
      "Episode: 77000, Mean Return: 4.615, Mean Wealth (V_T): 128.229, Epsilon: 0.018299583806109226\n",
      "Episode: 78000, Mean Return: 4.613, Mean Wealth (V_T): 125.447, Epsilon: 0.017384604615803764\n",
      "Episode: 79000, Mean Return: 4.597, Mean Wealth (V_T): 126.008, Epsilon: 0.016515374385013576\n",
      "Episode: 80000, Mean Return: 4.642, Mean Wealth (V_T): 129.479, Epsilon: 0.015689605665762895\n",
      "Episode: 81000, Mean Return: 4.55, Mean Wealth (V_T): 118.916, Epsilon: 0.01490512538247475\n",
      "Episode: 82000, Mean Return: 4.601, Mean Wealth (V_T): 124.407, Epsilon: 0.014159869113351011\n",
      "Episode: 83000, Mean Return: 4.6, Mean Wealth (V_T): 126.324, Epsilon: 0.01345187565768346\n",
      "Episode: 84000, Mean Return: 4.609, Mean Wealth (V_T): 125.835, Epsilon: 0.012779281874799287\n",
      "Episode: 85000, Mean Return: 4.627, Mean Wealth (V_T): 128.345, Epsilon: 0.012140317781059323\n",
      "Episode: 86000, Mean Return: 4.553, Mean Wealth (V_T): 117.798, Epsilon: 0.011533301892006355\n",
      "Episode: 87000, Mean Return: 4.602, Mean Wealth (V_T): 125.027, Epsilon: 0.010956636797406038\n",
      "Episode: 88000, Mean Return: 4.582, Mean Wealth (V_T): 123.924, Epsilon: 0.010408804957535735\n"
     ]
    },
    {
     "name": "stdout",
     "output_type": "stream",
     "text": [
      "Episode: 89000, Mean Return: 4.638, Mean Wealth (V_T): 130.308, Epsilon: 0.009888364709658948\n",
      "Episode: 90000, Mean Return: 4.608, Mean Wealth (V_T): 127.31, Epsilon: 0.009393946474176\n",
      "Episode: 91000, Mean Return: 4.594, Mean Wealth (V_T): 123.93, Epsilon: 0.0089242491504672\n",
      "Episode: 92000, Mean Return: 4.608, Mean Wealth (V_T): 125.326, Epsilon: 0.008478036692943839\n",
      "Episode: 93000, Mean Return: 4.618, Mean Wealth (V_T): 127.73, Epsilon: 0.008054134858296647\n",
      "Episode: 94000, Mean Return: 4.594, Mean Wealth (V_T): 123.93, Epsilon: 0.0076514281153818135\n",
      "Episode: 95000, Mean Return: 4.601, Mean Wealth (V_T): 124.958, Epsilon: 0.0072688567096127225\n",
      "Episode: 96000, Mean Return: 4.59, Mean Wealth (V_T): 124.801, Epsilon: 0.006905413874132086\n",
      "Episode: 97000, Mean Return: 4.615, Mean Wealth (V_T): 126.686, Epsilon: 0.006560143180425482\n",
      "Episode: 98000, Mean Return: 4.597, Mean Wealth (V_T): 124.575, Epsilon: 0.0062321360214042075\n",
      "Episode: 99000, Mean Return: 4.563, Mean Wealth (V_T): 119.913, Epsilon: 0.005920529220333997\n"
     ]
    }
   ],
   "source": [
    "# Logarithmic Utility function\n",
    "#up_prob, up_ret, down_ret, r, T, dt, V_0, actions, wealth_bins, utility\n",
    "env = BinomialTree(up_prob=4/9, up_ret=1, down_ret=-1/2, r=0, T=2, dt=1, V_0=100, actions=actions, wealth_bins=wealth_bins, utility=\"log\")\n",
    "Q, stats = qLearning(env, 100000)"
   ]
  },
  {
   "cell_type": "code",
   "execution_count": 159,
   "metadata": {},
   "outputs": [
    {
     "data": {
      "image/png": "[encoded data removed]",
      "text/plain": [
       "<Figure size 720x360 with 1 Axes>"
      ]
     },
     "metadata": {
      "needs_background": "light"
     },
     "output_type": "display_data"
    },
    {
     "data": {
      "image/png": "[encoded data removed]",
      "text/plain": [
       "<Figure size 720x360 with 1 Axes>"
      ]
     },
     "metadata": {
      "needs_background": "light"
     },
     "output_type": "display_data"
    },
    {
     "data": {
      "image/png": "[encoded data removed]",
      "text/plain": [
       "<Figure size 720x360 with 1 Axes>"
      ]
     },
     "metadata": {
      "needs_background": "light"
     },
     "output_type": "display_data"
    },
    {
     "data": {
      "text/plain": [
       "(<Figure size 720x360 with 1 Axes>,\n",
       " <Figure size 720x360 with 1 Axes>,\n",
       " <Figure size 720x360 with 1 Axes>)"
      ]
     },
     "execution_count": 159,
     "metadata": {},
     "output_type": "execute_result"
    }
   ],
   "source": [
    "plotting.plot_episode_stats(stats) "
   ]
  },
  {
   "cell_type": "code",
   "execution_count": 160,
   "metadata": {},
   "outputs": [
    {
     "name": "stdout",
     "output_type": "stream",
     "text": [
      "Key: (0, 1)\n",
      "State-Action Values:\n",
      "[0.         0.         0.         0.         0.         0.\n",
      " 0.         4.26051784 0.         0.         0.        ]\n",
      "Best Action (Investment in risky asset): 0.7000000000000001\n",
      "Key: (1, 0)\n",
      "State-Action Values:\n",
      "[0.         0.         0.         0.         0.         0.\n",
      " 0.         3.79122691 0.         0.         0.        ]\n",
      "Best Action (Investment in risky asset): 0.7000000000000001\n",
      "Key: (2, 0)\n",
      "State-Action Values:\n",
      "[0. 0. 0. 0. 0. 0. 0. 0. 0. 0. 0.]\n",
      "Best Action (Investment in risky asset): 0.0\n",
      "Key: (2, 2)\n",
      "State-Action Values:\n",
      "[0. 0. 0. 0. 0. 0. 0. 0. 0. 0. 0.]\n",
      "Best Action (Investment in risky asset): 0.0\n",
      "Key: (1, 2)\n",
      "State-Action Values:\n",
      "[0.         0.         0.         0.         0.         0.\n",
      " 0.         5.42731479 0.         0.         0.        ]\n",
      "Best Action (Investment in risky asset): 0.7000000000000001\n"
     ]
    }
   ],
   "source": [
    "for key in Q.keys():\n",
    "    print(\"Key:\", key)\n",
    "    print(\"State-Action Values:\", Q[key], sep=\"\\n\")\n",
    "    print(\"Best Action (Investment in risky asset):\", decode_action(np.argmax(Q[key]), actions))"
   ]
  },
  {
   "cell_type": "code",
   "execution_count": 145,
   "metadata": {},
   "outputs": [
    {
     "data": {
      "text/plain": [
       "0.8573749999999999"
      ]
     },
     "execution_count": 145,
     "metadata": {},
     "output_type": "execute_result"
    }
   ],
   "source": [
    "0.95*0.95*0.95"
   ]
  },
  {
   "cell_type": "code",
   "execution_count": null,
   "metadata": {},
   "outputs": [],
   "source": []
  }
 ],
 "metadata": {
  "kernelspec": {
   "display_name": "Python 3",
   "language": "python",
   "name": "python3"
  },
  "language_info": {
   "codemirror_mode": {
    "name": "ipython",
    "version": 3
   },
   "file_extension": ".py",
   "mimetype": "text/x-python",
   "name": "python",
   "nbconvert_exporter": "python",
   "pygments_lexer": "ipython3",
   "version": "3.7.3"
  }
 },
 "nbformat": 4,
 "nbformat_minor": 4
}
