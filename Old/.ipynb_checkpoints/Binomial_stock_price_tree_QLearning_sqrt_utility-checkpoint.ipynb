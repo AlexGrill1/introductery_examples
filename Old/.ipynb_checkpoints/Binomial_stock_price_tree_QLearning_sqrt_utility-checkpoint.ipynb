{
 "cells": [
  {
   "cell_type": "code",
   "execution_count": 2,
   "metadata": {},
   "outputs": [],
   "source": [
    "# Import libraries\n",
    "import gym\n",
    "from envs.binomial_tree import BinomialTree, decode_action    # custom BinomialTree dynamics\n",
    "from envs import plotting\n",
    "import numpy as np\n",
    "import pandas as pd\n",
    "import math\n",
    "from collections import defaultdict\n",
    "import itertools"
   ]
  },
  {
   "cell_type": "code",
   "execution_count": 3,
   "metadata": {},
   "outputs": [
    {
     "name": "stdout",
     "output_type": "stream",
     "text": [
      "Actions (Investment in risky asset): [0.  0.1 0.2 0.3 0.4 0.5 0.6 0.7 0.8 0.9 1. ]\n"
     ]
    }
   ],
   "source": [
    "actions = np.arange(0, 1.01, step=0.1)                  #vector of actions, discrete investment decisions in 10% steps\n",
    "#actions = np.array([0, 0.68, 1])\n",
    "print(\"Actions (Investment in risky asset):\", actions)  \n",
    "lower = 90                                              # upper limit of lowest wealth bin [0, lower)\n",
    "upper = 110                                             # lower limit of highest wealth bin [upper, +Inf)\n",
    "delta_bin = 20                                          # wealth-bin width\n",
    "wealth_bins = [0] + np.arange(lower, upper+1, delta_bin).tolist() + [float('Inf')]  # +1 as upper limit is not included"
   ]
  },
  {
   "cell_type": "code",
   "execution_count": 4,
   "metadata": {},
   "outputs": [],
   "source": [
    "# Simulation of BinomialTree dynmics\n",
    "#print(env.reset())\n",
    "#print(env.step(10))\n",
    "#print(env.step(10))\n",
    "#print(env.V_t)"
   ]
  },
  {
   "cell_type": "markdown",
   "metadata": {},
   "source": [
    "**Epsilon-Greedy Policy**\\\n",
    "Source: https://www.geeksforgeeks.org/q-learning-in-python/#:~:text=Q%2DLearning%20is%20a%20basic,defined%20for%20states%20and%20actions."
   ]
  },
  {
   "cell_type": "code",
   "execution_count": 5,
   "metadata": {},
   "outputs": [],
   "source": [
    "def createEpsilonGreedyPolicy(Q, epsilon, num_actions): \n",
    "    \"\"\" \n",
    "    Creates an epsilon-greedy policy based \n",
    "    on a given Q-function and epsilon. \n",
    "       \n",
    "    Returns a function that takes the state \n",
    "    as an input and returns the probabilities \n",
    "    for each action in the form of a numpy array  \n",
    "    of length of the action space(set of possible actions). \n",
    "    \"\"\"\n",
    "    def policyFunction(state): \n",
    "   \n",
    "        Action_probabilities = np.ones(num_actions, \n",
    "                dtype = float) * epsilon / num_actions \n",
    "                  \n",
    "        best_action = np.argmax(Q[state]) \n",
    "        Action_probabilities[best_action] += (1.0 - epsilon) \n",
    "        return Action_probabilities \n",
    "   \n",
    "    return policyFunction"
   ]
  },
  {
   "cell_type": "markdown",
   "metadata": {},
   "source": [
    "**Q-Learning Algorithm** \\\n",
    "Source: https://www.geeksforgeeks.org/q-learning-in-python/#:~:text=Q%2DLearning%20is%20a%20basic,defined%20for%20states%20and%20actions."
   ]
  },
  {
   "cell_type": "code",
   "execution_count": 60,
   "metadata": {},
   "outputs": [],
   "source": [
    "def qLearning(env, num_episodes, discount_factor = 1, alpha = 1, epsilon = 1): \n",
    "    \"\"\" \n",
    "    Q-Learning algorithm: Off-policy TD control. \n",
    "    Finds the optimal greedy policy while improving \n",
    "    following an epsilon-greedy policy\"\"\"\n",
    "       \n",
    "    # Action value function \n",
    "    # A nested dictionary that maps \n",
    "    # state -> (action -> action-value). \n",
    "    Q = defaultdict(lambda: np.zeros(env.action_space.n)) \n",
    "    A = defaultdict(lambda: np.zeros(env.action_space.n))\n",
    "   \n",
    "    # Keeps track of useful statistics \n",
    "    stats = plotting.EpisodeStats( \n",
    "        episode_lengths = np.zeros(num_episodes), \n",
    "        episode_rewards = np.zeros(num_episodes))     \n",
    "       \n",
    "    # Create an epsilon greedy policy function \n",
    "    # appropriately for environment action space \n",
    "    policy = createEpsilonGreedyPolicy(Q, epsilon, env.action_space.n) \n",
    "       \n",
    "    # For every episode\n",
    "    returns=np.array([])\n",
    "    terminal_wealths = np.array([])\n",
    "    for ith_episode in range(num_episodes): \n",
    "           \n",
    "        # Reset the environment and pick the first action \n",
    "        state = env.reset() \n",
    "           \n",
    "        for t in itertools.count(): \n",
    "               \n",
    "            # get probabilities of all actions from current state \n",
    "            action_probabilities = policy(state)\n",
    "   \n",
    "            # choose action according to  \n",
    "            # the probability distribution \n",
    "            action = np.random.choice(np.arange( \n",
    "                      len(action_probabilities)), \n",
    "                       p = action_probabilities)\n",
    "            A[state][action] += 1\n",
    "   \n",
    "            # take action and get reward, transit to next state \n",
    "            next_state, reward, done, _ = env.step(action)\n",
    "   \n",
    "            # Update statistics \n",
    "            stats.episode_rewards[ith_episode] += reward \n",
    "            stats.episode_lengths[ith_episode] = t\n",
    "               \n",
    "            # TD Update \n",
    "            best_next_action = np.argmax(Q[next_state])     \n",
    "            td_target = reward + discount_factor * Q[next_state][best_next_action]\n",
    "            td_delta = td_target - Q[state][action]\n",
    "            Q[state][action] += alpha * td_delta\n",
    "\n",
    "            # done is True if episode terminated    \n",
    "            if done: \n",
    "                returns = np.append(returns, reward)\n",
    "                terminal_wealths=np.append(terminal_wealths, env.V_t)\n",
    "                break\n",
    "                   \n",
    "            state = next_state\n",
    "        \n",
    "        if ith_episode % 10000 == 0:            \n",
    "            print(\"Episode: {}, Mean Return: {}, Mean Wealth (V_T): {}, Epsilon: {}, Alpha: {}\".format(ith_episode, round(returns.mean(), 3), round(terminal_wealths.mean(), 3), epsilon, alpha))\n",
    "            #print(\"td_delta:\", td_delta)\n",
    "            returns = np.array([])\n",
    "            terminal_wealths=np.array([])\n",
    "            \n",
    "        # Epsilon-Decay    \n",
    "        #if ith_episode % 10000 == 0 & ith_episode != 0:\n",
    "        #    epsilon = 0.1\n",
    "        #    policy = createEpsilonGreedyPolicy(Q, epsilon, env.action_space.n)\n",
    "        #    alpha = 0.1\n",
    "        \n",
    "        # Alpha-Decay\n",
    "        if (ith_episode % 30000 == 0) & (ith_episode != 0):\n",
    "            if alpha > 0.0011:\n",
    "                alpha *= 1/10\n",
    "        \n",
    "        if ith_episode >= num_episodes-10:\n",
    "            print(\"Td_target: {}, Td_delta: {}, alpha*Td_delta: {}\".format(td_target, td_delta, alpha*td_delta))\n",
    "            print(Q[(0,1)])\n",
    "            \n",
    "       \n",
    "    return Q, stats, A"
   ]
  },
  {
   "cell_type": "code",
   "execution_count": 61,
   "metadata": {},
   "outputs": [
    {
     "name": "stdout",
     "output_type": "stream",
     "text": [
      "Episode: 0, Mean Return: 9.22, Mean Wealth (V_T): 85.0, Epsilon: 1, Alpha: 1\n",
      "Episode: 10000, Mean Return: 10.208, Mean Wealth (V_T): 108.592, Epsilon: 1, Alpha: 1\n",
      "Episode: 20000, Mean Return: 10.213, Mean Wealth (V_T): 108.688, Epsilon: 1, Alpha: 1\n",
      "Episode: 30000, Mean Return: 10.239, Mean Wealth (V_T): 109.201, Epsilon: 1, Alpha: 1\n",
      "Episode: 40000, Mean Return: 10.201, Mean Wealth (V_T): 108.416, Epsilon: 1, Alpha: 0.1\n",
      "Episode: 50000, Mean Return: 10.19, Mean Wealth (V_T): 108.154, Epsilon: 1, Alpha: 0.1\n",
      "Episode: 60000, Mean Return: 10.157, Mean Wealth (V_T): 107.444, Epsilon: 1, Alpha: 0.1\n",
      "Episode: 70000, Mean Return: 10.2, Mean Wealth (V_T): 108.388, Epsilon: 1, Alpha: 0.010000000000000002\n",
      "Episode: 80000, Mean Return: 10.19, Mean Wealth (V_T): 108.222, Epsilon: 1, Alpha: 0.010000000000000002\n",
      "Episode: 90000, Mean Return: 10.198, Mean Wealth (V_T): 108.388, Epsilon: 1, Alpha: 0.010000000000000002\n",
      "Episode: 100000, Mean Return: 10.188, Mean Wealth (V_T): 108.063, Epsilon: 1, Alpha: 0.0010000000000000002\n",
      "Episode: 110000, Mean Return: 10.202, Mean Wealth (V_T): 108.432, Epsilon: 1, Alpha: 0.0010000000000000002\n",
      "Episode: 120000, Mean Return: 10.181, Mean Wealth (V_T): 108.034, Epsilon: 1, Alpha: 0.0010000000000000002\n",
      "Episode: 130000, Mean Return: 10.155, Mean Wealth (V_T): 107.432, Epsilon: 1, Alpha: 0.0010000000000000002\n",
      "Episode: 140000, Mean Return: 10.202, Mean Wealth (V_T): 108.418, Epsilon: 1, Alpha: 0.0010000000000000002\n",
      "Episode: 150000, Mean Return: 10.165, Mean Wealth (V_T): 107.636, Epsilon: 1, Alpha: 0.0010000000000000002\n",
      "Episode: 160000, Mean Return: 10.181, Mean Wealth (V_T): 108.02, Epsilon: 1, Alpha: 0.0010000000000000002\n",
      "Episode: 170000, Mean Return: 10.15, Mean Wealth (V_T): 107.412, Epsilon: 1, Alpha: 0.0010000000000000002\n",
      "Episode: 180000, Mean Return: 10.232, Mean Wealth (V_T): 109.062, Epsilon: 1, Alpha: 0.0010000000000000002\n",
      "Episode: 190000, Mean Return: 10.18, Mean Wealth (V_T): 108.0, Epsilon: 1, Alpha: 0.0010000000000000002\n",
      "Episode: 200000, Mean Return: 10.224, Mean Wealth (V_T): 108.92, Epsilon: 1, Alpha: 0.0010000000000000002\n",
      "Episode: 210000, Mean Return: 10.194, Mean Wealth (V_T): 108.284, Epsilon: 1, Alpha: 0.0010000000000000002\n",
      "Episode: 220000, Mean Return: 10.174, Mean Wealth (V_T): 107.808, Epsilon: 1, Alpha: 0.0010000000000000002\n",
      "Episode: 230000, Mean Return: 10.207, Mean Wealth (V_T): 108.566, Epsilon: 1, Alpha: 0.0010000000000000002\n",
      "Episode: 240000, Mean Return: 10.199, Mean Wealth (V_T): 108.367, Epsilon: 1, Alpha: 0.0010000000000000002\n",
      "Episode: 250000, Mean Return: 10.19, Mean Wealth (V_T): 108.247, Epsilon: 1, Alpha: 0.0010000000000000002\n",
      "Episode: 260000, Mean Return: 10.205, Mean Wealth (V_T): 108.51, Epsilon: 1, Alpha: 0.0010000000000000002\n",
      "Episode: 270000, Mean Return: 10.242, Mean Wealth (V_T): 109.347, Epsilon: 1, Alpha: 0.0010000000000000002\n",
      "Episode: 280000, Mean Return: 10.178, Mean Wealth (V_T): 107.916, Epsilon: 1, Alpha: 0.0010000000000000002\n",
      "Episode: 290000, Mean Return: 10.186, Mean Wealth (V_T): 108.164, Epsilon: 1, Alpha: 0.0010000000000000002\n",
      "Episode: 300000, Mean Return: 10.151, Mean Wealth (V_T): 107.434, Epsilon: 1, Alpha: 0.0010000000000000002\n",
      "Episode: 310000, Mean Return: 10.188, Mean Wealth (V_T): 108.182, Epsilon: 1, Alpha: 0.0010000000000000002\n",
      "Episode: 320000, Mean Return: 10.17, Mean Wealth (V_T): 107.762, Epsilon: 1, Alpha: 0.0010000000000000002\n",
      "Episode: 330000, Mean Return: 10.162, Mean Wealth (V_T): 107.646, Epsilon: 1, Alpha: 0.0010000000000000002\n",
      "Episode: 340000, Mean Return: 10.167, Mean Wealth (V_T): 107.764, Epsilon: 1, Alpha: 0.0010000000000000002\n",
      "Episode: 350000, Mean Return: 10.19, Mean Wealth (V_T): 108.25, Epsilon: 1, Alpha: 0.0010000000000000002\n",
      "Episode: 360000, Mean Return: 10.192, Mean Wealth (V_T): 108.224, Epsilon: 1, Alpha: 0.0010000000000000002\n",
      "Episode: 370000, Mean Return: 10.241, Mean Wealth (V_T): 109.264, Epsilon: 1, Alpha: 0.0010000000000000002\n",
      "Episode: 380000, Mean Return: 10.184, Mean Wealth (V_T): 108.11, Epsilon: 1, Alpha: 0.0010000000000000002\n",
      "Episode: 390000, Mean Return: 10.179, Mean Wealth (V_T): 107.95, Epsilon: 1, Alpha: 0.0010000000000000002\n",
      "Episode: 400000, Mean Return: 10.222, Mean Wealth (V_T): 108.934, Epsilon: 1, Alpha: 0.0010000000000000002\n",
      "Episode: 410000, Mean Return: 10.201, Mean Wealth (V_T): 108.441, Epsilon: 1, Alpha: 0.0010000000000000002\n",
      "Episode: 420000, Mean Return: 10.2, Mean Wealth (V_T): 108.405, Epsilon: 1, Alpha: 0.0010000000000000002\n",
      "Episode: 430000, Mean Return: 10.236, Mean Wealth (V_T): 109.189, Epsilon: 1, Alpha: 0.0010000000000000002\n",
      "Episode: 440000, Mean Return: 10.178, Mean Wealth (V_T): 107.87, Epsilon: 1, Alpha: 0.0010000000000000002\n",
      "Episode: 450000, Mean Return: 10.223, Mean Wealth (V_T): 108.864, Epsilon: 1, Alpha: 0.0010000000000000002\n",
      "Episode: 460000, Mean Return: 10.215, Mean Wealth (V_T): 108.754, Epsilon: 1, Alpha: 0.0010000000000000002\n",
      "Episode: 470000, Mean Return: 10.166, Mean Wealth (V_T): 107.684, Epsilon: 1, Alpha: 0.0010000000000000002\n",
      "Episode: 480000, Mean Return: 10.206, Mean Wealth (V_T): 108.602, Epsilon: 1, Alpha: 0.0010000000000000002\n",
      "Episode: 490000, Mean Return: 10.172, Mean Wealth (V_T): 107.797, Epsilon: 1, Alpha: 0.0010000000000000002\n",
      "Episode: 500000, Mean Return: 10.213, Mean Wealth (V_T): 108.742, Epsilon: 1, Alpha: 0.0010000000000000002\n",
      "Episode: 510000, Mean Return: 10.19, Mean Wealth (V_T): 108.242, Epsilon: 1, Alpha: 0.0010000000000000002\n",
      "Episode: 520000, Mean Return: 10.184, Mean Wealth (V_T): 108.087, Epsilon: 1, Alpha: 0.0010000000000000002\n",
      "Episode: 530000, Mean Return: 10.191, Mean Wealth (V_T): 108.25, Epsilon: 1, Alpha: 0.0010000000000000002\n",
      "Episode: 540000, Mean Return: 10.203, Mean Wealth (V_T): 108.443, Epsilon: 1, Alpha: 0.0010000000000000002\n",
      "Episode: 550000, Mean Return: 10.207, Mean Wealth (V_T): 108.556, Epsilon: 1, Alpha: 0.0010000000000000002\n",
      "Episode: 560000, Mean Return: 10.198, Mean Wealth (V_T): 108.332, Epsilon: 1, Alpha: 0.0010000000000000002\n",
      "Episode: 570000, Mean Return: 10.177, Mean Wealth (V_T): 107.892, Epsilon: 1, Alpha: 0.0010000000000000002\n",
      "Episode: 580000, Mean Return: 10.147, Mean Wealth (V_T): 107.234, Epsilon: 1, Alpha: 0.0010000000000000002\n",
      "Episode: 590000, Mean Return: 10.232, Mean Wealth (V_T): 109.064, Epsilon: 1, Alpha: 0.0010000000000000002\n",
      "Episode: 600000, Mean Return: 10.186, Mean Wealth (V_T): 108.116, Epsilon: 1, Alpha: 0.0010000000000000002\n",
      "Episode: 610000, Mean Return: 10.17, Mean Wealth (V_T): 107.782, Epsilon: 1, Alpha: 0.0010000000000000002\n",
      "Episode: 620000, Mean Return: 10.183, Mean Wealth (V_T): 108.084, Epsilon: 1, Alpha: 0.0010000000000000002\n",
      "Episode: 630000, Mean Return: 10.236, Mean Wealth (V_T): 109.124, Epsilon: 1, Alpha: 0.0010000000000000002\n",
      "Episode: 640000, Mean Return: 10.236, Mean Wealth (V_T): 109.146, Epsilon: 1, Alpha: 0.0010000000000000002\n",
      "Episode: 650000, Mean Return: 10.173, Mean Wealth (V_T): 107.764, Epsilon: 1, Alpha: 0.0010000000000000002\n",
      "Episode: 660000, Mean Return: 10.196, Mean Wealth (V_T): 108.26, Epsilon: 1, Alpha: 0.0010000000000000002\n",
      "Episode: 670000, Mean Return: 10.19, Mean Wealth (V_T): 108.163, Epsilon: 1, Alpha: 0.0010000000000000002\n",
      "Episode: 680000, Mean Return: 10.238, Mean Wealth (V_T): 109.207, Epsilon: 1, Alpha: 0.0010000000000000002\n",
      "Episode: 690000, Mean Return: 10.196, Mean Wealth (V_T): 108.368, Epsilon: 1, Alpha: 0.0010000000000000002\n",
      "Episode: 700000, Mean Return: 10.226, Mean Wealth (V_T): 109.024, Epsilon: 1, Alpha: 0.0010000000000000002\n",
      "Episode: 710000, Mean Return: 10.143, Mean Wealth (V_T): 107.214, Epsilon: 1, Alpha: 0.0010000000000000002\n",
      "Episode: 720000, Mean Return: 10.227, Mean Wealth (V_T): 108.938, Epsilon: 1, Alpha: 0.0010000000000000002\n",
      "Episode: 730000, Mean Return: 10.231, Mean Wealth (V_T): 109.062, Epsilon: 1, Alpha: 0.0010000000000000002\n",
      "Episode: 740000, Mean Return: 10.21, Mean Wealth (V_T): 108.6, Epsilon: 1, Alpha: 0.0010000000000000002\n",
      "Episode: 750000, Mean Return: 10.167, Mean Wealth (V_T): 107.71, Epsilon: 1, Alpha: 0.0010000000000000002\n",
      "Episode: 760000, Mean Return: 10.199, Mean Wealth (V_T): 108.454, Epsilon: 1, Alpha: 0.0010000000000000002\n",
      "Episode: 770000, Mean Return: 10.211, Mean Wealth (V_T): 108.618, Epsilon: 1, Alpha: 0.0010000000000000002\n",
      "Episode: 780000, Mean Return: 10.211, Mean Wealth (V_T): 108.69, Epsilon: 1, Alpha: 0.0010000000000000002\n"
     ]
    },
    {
     "name": "stdout",
     "output_type": "stream",
     "text": [
      "Episode: 790000, Mean Return: 10.185, Mean Wealth (V_T): 108.082, Epsilon: 1, Alpha: 0.0010000000000000002\n",
      "Episode: 800000, Mean Return: 10.205, Mean Wealth (V_T): 108.517, Epsilon: 1, Alpha: 0.0010000000000000002\n",
      "Episode: 810000, Mean Return: 10.182, Mean Wealth (V_T): 108.006, Epsilon: 1, Alpha: 0.0010000000000000002\n",
      "Episode: 820000, Mean Return: 10.182, Mean Wealth (V_T): 108.062, Epsilon: 1, Alpha: 0.0010000000000000002\n",
      "Episode: 830000, Mean Return: 10.157, Mean Wealth (V_T): 107.498, Epsilon: 1, Alpha: 0.0010000000000000002\n",
      "Episode: 840000, Mean Return: 10.224, Mean Wealth (V_T): 108.906, Epsilon: 1, Alpha: 0.0010000000000000002\n",
      "Episode: 850000, Mean Return: 10.172, Mean Wealth (V_T): 107.834, Epsilon: 1, Alpha: 0.0010000000000000002\n",
      "Episode: 860000, Mean Return: 10.194, Mean Wealth (V_T): 108.287, Epsilon: 1, Alpha: 0.0010000000000000002\n",
      "Episode: 870000, Mean Return: 10.155, Mean Wealth (V_T): 107.516, Epsilon: 1, Alpha: 0.0010000000000000002\n",
      "Episode: 880000, Mean Return: 10.205, Mean Wealth (V_T): 108.51, Epsilon: 1, Alpha: 0.0010000000000000002\n",
      "Episode: 890000, Mean Return: 10.178, Mean Wealth (V_T): 107.934, Epsilon: 1, Alpha: 0.0010000000000000002\n",
      "Episode: 900000, Mean Return: 10.216, Mean Wealth (V_T): 108.688, Epsilon: 1, Alpha: 0.0010000000000000002\n",
      "Episode: 910000, Mean Return: 10.195, Mean Wealth (V_T): 108.272, Epsilon: 1, Alpha: 0.0010000000000000002\n",
      "Episode: 920000, Mean Return: 10.184, Mean Wealth (V_T): 108.146, Epsilon: 1, Alpha: 0.0010000000000000002\n",
      "Episode: 930000, Mean Return: 10.199, Mean Wealth (V_T): 108.434, Epsilon: 1, Alpha: 0.0010000000000000002\n",
      "Episode: 940000, Mean Return: 10.183, Mean Wealth (V_T): 108.09, Epsilon: 1, Alpha: 0.0010000000000000002\n",
      "Episode: 950000, Mean Return: 10.177, Mean Wealth (V_T): 107.902, Epsilon: 1, Alpha: 0.0010000000000000002\n",
      "Episode: 960000, Mean Return: 10.227, Mean Wealth (V_T): 109.0, Epsilon: 1, Alpha: 0.0010000000000000002\n",
      "Episode: 970000, Mean Return: 10.214, Mean Wealth (V_T): 108.69, Epsilon: 1, Alpha: 0.0010000000000000002\n",
      "Episode: 980000, Mean Return: 10.231, Mean Wealth (V_T): 109.117, Epsilon: 1, Alpha: 0.0010000000000000002\n",
      "Episode: 990000, Mean Return: 10.217, Mean Wealth (V_T): 108.779, Epsilon: 1, Alpha: 0.0010000000000000002\n",
      "Td_target: 7.0710678118654755, Td_delta: -3.24895667363419, alpha*Td_delta: -0.003248956673634191\n",
      "[10.         10.08093769 10.15823905 10.22563786 10.2265843  10.25851138\n",
      " 10.35822883 10.20474678 10.29224819 10.26053614 10.31677553]\n",
      "Td_target: 11.40175425099138, Td_delta: 1.1761163899370786, alpha*Td_delta: 0.0011761163899370788\n",
      "[10.         10.08093769 10.15823905 10.22681398 10.2265843  10.25851138\n",
      " 10.35822883 10.20474678 10.29224819 10.26053614 10.31677553]\n",
      "Td_target: 10.0, Td_delta: 0.0, alpha*Td_delta: 0.0\n",
      "[10.         10.08093769 10.15823905 10.22681398 10.2265843  10.25851138\n",
      " 10.35822883 10.20474678 10.29224819 10.26053614 10.31677553]\n",
      "Td_target: 7.0710678118654755, Td_delta: -3.245707716960556, alpha*Td_delta: -0.003245707716960557\n",
      "[10.         10.08093769 10.15823905 10.22681398 10.2265843  10.25851138\n",
      " 10.35822883 10.20474678 10.29224819 10.26053614 10.31352982]\n",
      "Td_target: 8.06225774829855, Td_delta: -2.142489030046267, alpha*Td_delta: -0.0021424890300462676\n",
      "[10.         10.08093769 10.15823905 10.22681398 10.2265843  10.25851138\n",
      " 10.35822883 10.20260429 10.29224819 10.26053614 10.31352982]\n",
      "Td_target: 9.219544457292887, Td_delta: -1.0072695201513504, alpha*Td_delta: -0.0010072695201513507\n",
      "[10.         10.08093769 10.15823905 10.22580671 10.2265843  10.25851138\n",
      " 10.35822883 10.20260429 10.29224819 10.26053614 10.31352982]\n",
      "Td_target: 8.06225774829855, Td_delta: -2.1403465410162212, alpha*Td_delta: -0.002140346541016222\n",
      "[10.         10.08093769 10.15823905 10.22580671 10.2265843  10.25851138\n",
      " 10.35822883 10.20046394 10.29224819 10.26053614 10.31352982]\n",
      "Td_target: 13.038404810405298, Td_delta: 2.837940867631545, alpha*Td_delta: 0.0028379408676315458\n",
      "[10.         10.08093769 10.15823905 10.22580671 10.2265843  10.25851138\n",
      " 10.35822883 10.20330188 10.29224819 10.26053614 10.31352982]\n",
      "Td_target: 7.416198487095664, Td_delta: -2.8443376524288295, alpha*Td_delta: -0.0028443376524288303\n",
      "[10.         10.08093769 10.15823905 10.22580671 10.2265843  10.25851138\n",
      " 10.35822883 10.20330188 10.29224819 10.2576918  10.31352982]\n",
      "Td_target: 11.832159566199232, Td_delta: 1.605575267487577, alpha*Td_delta: 0.0016055752674875774\n",
      "[10.         10.08093769 10.15823905 10.22580671 10.22818987 10.25851138\n",
      " 10.35822883 10.20330188 10.29224819 10.2576918  10.31352982]\n"
     ]
    }
   ],
   "source": [
    "# Square root utility function\n",
    "#up_prob, up_ret, down_ret, r, T, dt, V_0, actions, wealth_bins, utility\n",
    "env = BinomialTree(up_prob=4/9, up_ret=1, down_ret=-1/2, r=0, T=1, dt=1, V_0=100, actions=actions, wealth_bins=wealth_bins, utility=\"sqrt\")\n",
    "Q, stats, A = qLearning(env, 1000000)"
   ]
  },
  {
   "cell_type": "code",
   "execution_count": 51,
   "metadata": {
    "scrolled": true
   },
   "outputs": [
    {
     "data": {
      "image/png": "[encoded data removed]",
      "text/plain": [
       "<Figure size 720x360 with 1 Axes>"
      ]
     },
     "metadata": {
      "needs_background": "light"
     },
     "output_type": "display_data"
    },
    {
     "data": {
      "image/png": "[encoded data removed]",
      "text/plain": [
       "<Figure size 720x360 with 1 Axes>"
      ]
     },
     "metadata": {
      "needs_background": "light"
     },
     "output_type": "display_data"
    },
    {
     "data": {
      "image/png": "[encoded data removed]",
      "text/plain": [
       "<Figure size 720x360 with 1 Axes>"
      ]
     },
     "metadata": {
      "needs_background": "light"
     },
     "output_type": "display_data"
    },
    {
     "data": {
      "text/plain": [
       "(<Figure size 720x360 with 1 Axes>,\n",
       " <Figure size 720x360 with 1 Axes>,\n",
       " <Figure size 720x360 with 1 Axes>)"
      ]
     },
     "execution_count": 51,
     "metadata": {},
     "output_type": "execute_result"
    }
   ],
   "source": [
    "plotting.plot_episode_stats(stats) "
   ]
  },
  {
   "cell_type": "code",
   "execution_count": 62,
   "metadata": {},
   "outputs": [
    {
     "name": "stdout",
     "output_type": "stream",
     "text": [
      "Key: (0, 1)\n",
      "State-Action Values:\n",
      "[10.         10.08093769 10.15823905 10.22580671 10.22818987 10.25851138\n",
      " 10.35822883 10.20330188 10.29224819 10.2576918  10.31352982]\n",
      "Best Action (Investment in risky asset): 0.6000000000000001\n",
      "Key: (1, 0)\n",
      "State-Action Values:\n",
      "[0. 0. 0. 0. 0. 0. 0. 0. 0. 0. 0.]\n",
      "Best Action (Investment in risky asset): 0.0\n",
      "Key: (1, 2)\n",
      "State-Action Values:\n",
      "[0. 0. 0. 0. 0. 0. 0. 0. 0. 0. 0.]\n",
      "Best Action (Investment in risky asset): 0.0\n",
      "Key: (1, 1)\n",
      "State-Action Values:\n",
      "[0. 0. 0. 0. 0. 0. 0. 0. 0. 0. 0.]\n",
      "Best Action (Investment in risky asset): 0.0\n"
     ]
    }
   ],
   "source": [
    "for key in Q.keys():\n",
    "    print(\"Key:\", key)\n",
    "    print(\"State-Action Values:\", Q[key], sep=\"\\n\")\n",
    "    print(\"Best Action (Investment in risky asset):\", decode_action(np.argmax(Q[key]), actions))"
   ]
  },
  {
   "cell_type": "code",
   "execution_count": 57,
   "metadata": {},
   "outputs": [
    {
     "name": "stdout",
     "output_type": "stream",
     "text": [
      "State: (0, 1), Actions: [ 50276.  27573.   6666.  27458.  48795. 133628. 121815.  22411.  27006.\n",
      "  26381.   7991.]\n"
     ]
    }
   ],
   "source": [
    "# How often was each action take in each state\n",
    "for key in A:\n",
    "    print(\"State: {}, Actions: {}\".format(key, A[key]))"
   ]
  }
 ],
 "metadata": {
  "kernelspec": {
   "display_name": "Python 3",
   "language": "python",
   "name": "python3"
  },
  "language_info": {
   "codemirror_mode": {
    "name": "ipython",
    "version": 3
   },
   "file_extension": ".py",
   "mimetype": "text/x-python",
   "name": "python",
   "nbconvert_exporter": "python",
   "pygments_lexer": "ipython3",
   "version": "3.8.5"
  }
 },
 "nbformat": 4,
 "nbformat_minor": 4
}
